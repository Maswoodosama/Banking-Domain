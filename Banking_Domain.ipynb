{
 "cells": [
  {
   "cell_type": "code",
   "execution_count": 1,
   "id": "f34df1a0-de09-47b2-8a19-d4f39385f9ec",
   "metadata": {},
   "outputs": [],
   "source": [
    "# Import the basic libraries\n",
    "import os\n",
    "import numpy as np\n",
    "import pandas as pd\n",
    "import matplotlib.pyplot as plt\n",
    "%matplotlib inline\n",
    "import seaborn as sns\n",
    "sns.set()\n",
    "import warnings\n",
    "warnings.filterwarnings(\"ignore\")"
   ]
  },
  {
   "cell_type": "code",
   "execution_count": 2,
   "id": "655a96d7-d51b-4177-88d6-2f5973c09115",
   "metadata": {},
   "outputs": [],
   "source": [
    "geo = pd.read_csv('Geo_scores.csv')  # Importing Datas\n",
    "instance = pd.read_csv('instance_scores.csv')\n",
    "lambdawts =pd.read_csv('Lambda_wts.csv')\n",
    "qset =pd.read_csv('Qset_tats.csv')\n",
    "test_data =pd.read_csv('test_share.csv')\n",
    "train_data = pd.read_csv('train.csv')"
   ]
  },
  {
   "cell_type": "code",
   "execution_count": 3,
   "id": "25d39933-94f3-4309-90ac-204ff2b4b8bb",
   "metadata": {},
   "outputs": [
    {
     "name": "stdout",
     "output_type": "stream",
     "text": [
      "(1424035, 2)\n",
      "\n",
      "(1424035, 2)\n",
      "\n",
      "(1400, 2)\n",
      "\n",
      "(1424035, 2)\n",
      "\n",
      "(56962, 27)\n",
      "\n",
      "(227845, 28)\n"
     ]
    }
   ],
   "source": [
    "# Shape of Dataset\n",
    "\n",
    "print(geo.shape)\n",
    "print()\n",
    "print(instance.shape)\n",
    "print()\n",
    "print(lambdawts.shape)\n",
    "print()\n",
    "print(qset.shape)\n",
    "print()\n",
    "print(test_data.shape)\n",
    "print()\n",
    "print(train_data.shape)"
   ]
  },
  {
   "cell_type": "code",
   "execution_count": 4,
   "id": "43003564-9982-474a-a3b5-44c6e2e109ef",
   "metadata": {},
   "outputs": [
    {
     "name": "stdout",
     "output_type": "stream",
     "text": [
      "Index(['id', 'geo_score'], dtype='object')\n",
      "\n",
      "Index(['id', 'instance_scores'], dtype='object')\n",
      "\n",
      "Index(['Group', 'lambda_wt'], dtype='object')\n",
      "\n",
      "Index(['id', 'qsets_normalized_tat'], dtype='object')\n",
      "\n",
      "Index(['id', 'Group', 'Per1', 'Per2', 'Per3', 'Per4', 'Per5', 'Per6', 'Per7',\n",
      "       'Per8', 'Per9', 'Dem1', 'Dem2', 'Dem3', 'Dem4', 'Dem5', 'Dem6', 'Dem7',\n",
      "       'Dem8', 'Dem9', 'Cred1', 'Cred2', 'Cred3', 'Cred4', 'Cred5', 'Cred6',\n",
      "       'Normalised_FNT'],\n",
      "      dtype='object')\n",
      "\n",
      "Index(['id', 'Group', 'Per1', 'Per2', 'Per3', 'Per4', 'Per5', 'Per6', 'Per7',\n",
      "       'Per8', 'Per9', 'Dem1', 'Dem2', 'Dem3', 'Dem4', 'Dem5', 'Dem6', 'Dem7',\n",
      "       'Dem8', 'Dem9', 'Cred1', 'Cred2', 'Cred3', 'Cred4', 'Cred5', 'Cred6',\n",
      "       'Normalised_FNT', 'Target'],\n",
      "      dtype='object')\n"
     ]
    }
   ],
   "source": [
    "print(geo.columns)\n",
    "print()\n",
    "print(instance.columns)\n",
    "print()\n",
    "print(lambdawts.columns)\n",
    "print()\n",
    "print(qset.columns)\n",
    "print()\n",
    "print(test_data.columns)\n",
    "print()\n",
    "print(train_data.columns)"
   ]
  },
  {
   "cell_type": "code",
   "execution_count": 5,
   "id": "9b2070cd-dd59-477c-bee2-fd85f92f667c",
   "metadata": {},
   "outputs": [],
   "source": [
    "train_data['data']='train'\n",
    "test_data['data']='test'"
   ]
  },
  {
   "cell_type": "code",
   "execution_count": 6,
   "id": "ad6cab5e-d11e-4f92-ac87-f309073b8cb0",
   "metadata": {},
   "outputs": [
    {
     "data": {
      "text/plain": [
       "Index(['id', 'Group', 'Per1', 'Per2', 'Per3', 'Per4', 'Per5', 'Per6', 'Per7',\n",
       "       'Per8', 'Per9', 'Dem1', 'Dem2', 'Dem3', 'Dem4', 'Dem5', 'Dem6', 'Dem7',\n",
       "       'Dem8', 'Dem9', 'Cred1', 'Cred2', 'Cred3', 'Cred4', 'Cred5', 'Cred6',\n",
       "       'Normalised_FNT', 'Target', 'data'],\n",
       "      dtype='object')"
      ]
     },
     "execution_count": 6,
     "metadata": {},
     "output_type": "execute_result"
    }
   ],
   "source": [
    "train_data.columns"
   ]
  },
  {
   "cell_type": "code",
   "execution_count": 7,
   "id": "5932d629-942c-4c57-aeb4-516206ab86f8",
   "metadata": {},
   "outputs": [
    {
     "data": {
      "text/plain": [
       "Index(['id', 'Group', 'Per1', 'Per2', 'Per3', 'Per4', 'Per5', 'Per6', 'Per7',\n",
       "       'Per8', 'Per9', 'Dem1', 'Dem2', 'Dem3', 'Dem4', 'Dem5', 'Dem6', 'Dem7',\n",
       "       'Dem8', 'Dem9', 'Cred1', 'Cred2', 'Cred3', 'Cred4', 'Cred5', 'Cred6',\n",
       "       'Normalised_FNT', 'data'],\n",
       "      dtype='object')"
      ]
     },
     "execution_count": 7,
     "metadata": {},
     "output_type": "execute_result"
    }
   ],
   "source": [
    "test_data.columns"
   ]
  },
  {
   "cell_type": "code",
   "execution_count": 8,
   "id": "a5c0d830-03e0-48aa-b0ac-16825b35e437",
   "metadata": {},
   "outputs": [
    {
     "data": {
      "text/html": [
       "<div>\n",
       "<style scoped>\n",
       "    .dataframe tbody tr th:only-of-type {\n",
       "        vertical-align: middle;\n",
       "    }\n",
       "\n",
       "    .dataframe tbody tr th {\n",
       "        vertical-align: top;\n",
       "    }\n",
       "\n",
       "    .dataframe thead th {\n",
       "        text-align: right;\n",
       "    }\n",
       "</style>\n",
       "<table border=\"1\" class=\"dataframe\">\n",
       "  <thead>\n",
       "    <tr style=\"text-align: right;\">\n",
       "      <th></th>\n",
       "      <th>id</th>\n",
       "      <th>Group</th>\n",
       "      <th>Per1</th>\n",
       "      <th>Per2</th>\n",
       "      <th>Per3</th>\n",
       "      <th>Per4</th>\n",
       "      <th>Per5</th>\n",
       "      <th>Per6</th>\n",
       "      <th>Per7</th>\n",
       "      <th>Per8</th>\n",
       "      <th>...</th>\n",
       "      <th>Dem8</th>\n",
       "      <th>Dem9</th>\n",
       "      <th>Cred1</th>\n",
       "      <th>Cred2</th>\n",
       "      <th>Cred3</th>\n",
       "      <th>Cred4</th>\n",
       "      <th>Cred5</th>\n",
       "      <th>Cred6</th>\n",
       "      <th>Normalised_FNT</th>\n",
       "      <th>data</th>\n",
       "    </tr>\n",
       "  </thead>\n",
       "  <tbody>\n",
       "    <tr>\n",
       "      <th>56957</th>\n",
       "      <td>18333</td>\n",
       "      <td>Grp102</td>\n",
       "      <td>0.553333</td>\n",
       "      <td>1.043333</td>\n",
       "      <td>1.096667</td>\n",
       "      <td>0.686667</td>\n",
       "      <td>0.673333</td>\n",
       "      <td>0.340000</td>\n",
       "      <td>0.900000</td>\n",
       "      <td>0.643333</td>\n",
       "      <td>...</td>\n",
       "      <td>0.576667</td>\n",
       "      <td>0.433333</td>\n",
       "      <td>0.660000</td>\n",
       "      <td>0.776667</td>\n",
       "      <td>0.610000</td>\n",
       "      <td>0.690000</td>\n",
       "      <td>0.750000</td>\n",
       "      <td>0.700000</td>\n",
       "      <td>-249.5050</td>\n",
       "      <td>test</td>\n",
       "    </tr>\n",
       "    <tr>\n",
       "      <th>56958</th>\n",
       "      <td>244207</td>\n",
       "      <td>Grp504</td>\n",
       "      <td>1.353333</td>\n",
       "      <td>0.616667</td>\n",
       "      <td>0.276667</td>\n",
       "      <td>0.783333</td>\n",
       "      <td>0.690000</td>\n",
       "      <td>0.650000</td>\n",
       "      <td>0.473333</td>\n",
       "      <td>0.670000</td>\n",
       "      <td>...</td>\n",
       "      <td>0.713333</td>\n",
       "      <td>0.870000</td>\n",
       "      <td>0.683333</td>\n",
       "      <td>0.690000</td>\n",
       "      <td>0.640000</td>\n",
       "      <td>0.883333</td>\n",
       "      <td>0.663333</td>\n",
       "      <td>0.660000</td>\n",
       "      <td>-248.7525</td>\n",
       "      <td>test</td>\n",
       "    </tr>\n",
       "    <tr>\n",
       "      <th>56959</th>\n",
       "      <td>103277</td>\n",
       "      <td>Grp78</td>\n",
       "      <td>1.083333</td>\n",
       "      <td>0.433333</td>\n",
       "      <td>0.806667</td>\n",
       "      <td>0.490000</td>\n",
       "      <td>0.243333</td>\n",
       "      <td>0.316667</td>\n",
       "      <td>0.533333</td>\n",
       "      <td>0.606667</td>\n",
       "      <td>...</td>\n",
       "      <td>0.433333</td>\n",
       "      <td>0.063333</td>\n",
       "      <td>0.753333</td>\n",
       "      <td>0.780000</td>\n",
       "      <td>0.603333</td>\n",
       "      <td>0.880000</td>\n",
       "      <td>0.643333</td>\n",
       "      <td>0.676667</td>\n",
       "      <td>-231.0500</td>\n",
       "      <td>test</td>\n",
       "    </tr>\n",
       "    <tr>\n",
       "      <th>56960</th>\n",
       "      <td>273294</td>\n",
       "      <td>Grp134</td>\n",
       "      <td>0.566667</td>\n",
       "      <td>1.153333</td>\n",
       "      <td>0.370000</td>\n",
       "      <td>0.616667</td>\n",
       "      <td>0.793333</td>\n",
       "      <td>0.226667</td>\n",
       "      <td>0.910000</td>\n",
       "      <td>0.696667</td>\n",
       "      <td>...</td>\n",
       "      <td>0.776667</td>\n",
       "      <td>1.026667</td>\n",
       "      <td>0.626667</td>\n",
       "      <td>0.646667</td>\n",
       "      <td>0.566667</td>\n",
       "      <td>0.616667</td>\n",
       "      <td>0.713333</td>\n",
       "      <td>0.706667</td>\n",
       "      <td>-246.3150</td>\n",
       "      <td>test</td>\n",
       "    </tr>\n",
       "    <tr>\n",
       "      <th>56961</th>\n",
       "      <td>223337</td>\n",
       "      <td>Grp18</td>\n",
       "      <td>1.426667</td>\n",
       "      <td>0.110000</td>\n",
       "      <td>-0.006667</td>\n",
       "      <td>-0.200000</td>\n",
       "      <td>0.983333</td>\n",
       "      <td>1.870000</td>\n",
       "      <td>0.033333</td>\n",
       "      <td>0.963333</td>\n",
       "      <td>...</td>\n",
       "      <td>0.616667</td>\n",
       "      <td>0.670000</td>\n",
       "      <td>0.770000</td>\n",
       "      <td>0.893333</td>\n",
       "      <td>0.586667</td>\n",
       "      <td>0.616667</td>\n",
       "      <td>0.683333</td>\n",
       "      <td>0.650000</td>\n",
       "      <td>-248.4500</td>\n",
       "      <td>test</td>\n",
       "    </tr>\n",
       "  </tbody>\n",
       "</table>\n",
       "<p>5 rows × 28 columns</p>\n",
       "</div>"
      ],
      "text/plain": [
       "           id   Group      Per1      Per2      Per3      Per4      Per5  \\\n",
       "56957   18333  Grp102  0.553333  1.043333  1.096667  0.686667  0.673333   \n",
       "56958  244207  Grp504  1.353333  0.616667  0.276667  0.783333  0.690000   \n",
       "56959  103277   Grp78  1.083333  0.433333  0.806667  0.490000  0.243333   \n",
       "56960  273294  Grp134  0.566667  1.153333  0.370000  0.616667  0.793333   \n",
       "56961  223337   Grp18  1.426667  0.110000 -0.006667 -0.200000  0.983333   \n",
       "\n",
       "           Per6      Per7      Per8  ...      Dem8      Dem9     Cred1  \\\n",
       "56957  0.340000  0.900000  0.643333  ...  0.576667  0.433333  0.660000   \n",
       "56958  0.650000  0.473333  0.670000  ...  0.713333  0.870000  0.683333   \n",
       "56959  0.316667  0.533333  0.606667  ...  0.433333  0.063333  0.753333   \n",
       "56960  0.226667  0.910000  0.696667  ...  0.776667  1.026667  0.626667   \n",
       "56961  1.870000  0.033333  0.963333  ...  0.616667  0.670000  0.770000   \n",
       "\n",
       "          Cred2     Cred3     Cred4     Cred5     Cred6  Normalised_FNT  data  \n",
       "56957  0.776667  0.610000  0.690000  0.750000  0.700000       -249.5050  test  \n",
       "56958  0.690000  0.640000  0.883333  0.663333  0.660000       -248.7525  test  \n",
       "56959  0.780000  0.603333  0.880000  0.643333  0.676667       -231.0500  test  \n",
       "56960  0.646667  0.566667  0.616667  0.713333  0.706667       -246.3150  test  \n",
       "56961  0.893333  0.586667  0.616667  0.683333  0.650000       -248.4500  test  \n",
       "\n",
       "[5 rows x 28 columns]"
      ]
     },
     "execution_count": 8,
     "metadata": {},
     "output_type": "execute_result"
    }
   ],
   "source": [
    "test_data.tail()"
   ]
  },
  {
   "cell_type": "code",
   "execution_count": 9,
   "id": "6904f8ea-2795-4c9e-a4ea-348abb358998",
   "metadata": {},
   "outputs": [
    {
     "data": {
      "text/html": [
       "<div>\n",
       "<style scoped>\n",
       "    .dataframe tbody tr th:only-of-type {\n",
       "        vertical-align: middle;\n",
       "    }\n",
       "\n",
       "    .dataframe tbody tr th {\n",
       "        vertical-align: top;\n",
       "    }\n",
       "\n",
       "    .dataframe thead th {\n",
       "        text-align: right;\n",
       "    }\n",
       "</style>\n",
       "<table border=\"1\" class=\"dataframe\">\n",
       "  <thead>\n",
       "    <tr style=\"text-align: right;\">\n",
       "      <th></th>\n",
       "      <th>id</th>\n",
       "      <th>Group</th>\n",
       "      <th>Per1</th>\n",
       "      <th>Per2</th>\n",
       "      <th>Per3</th>\n",
       "      <th>Per4</th>\n",
       "      <th>Per5</th>\n",
       "      <th>Per6</th>\n",
       "      <th>Per7</th>\n",
       "      <th>Per8</th>\n",
       "      <th>...</th>\n",
       "      <th>Dem9</th>\n",
       "      <th>Cred1</th>\n",
       "      <th>Cred2</th>\n",
       "      <th>Cred3</th>\n",
       "      <th>Cred4</th>\n",
       "      <th>Cred5</th>\n",
       "      <th>Cred6</th>\n",
       "      <th>Normalised_FNT</th>\n",
       "      <th>Target</th>\n",
       "      <th>data</th>\n",
       "    </tr>\n",
       "  </thead>\n",
       "  <tbody>\n",
       "    <tr>\n",
       "      <th>227840</th>\n",
       "      <td>97346</td>\n",
       "      <td>Grp232</td>\n",
       "      <td>0.476667</td>\n",
       "      <td>1.013333</td>\n",
       "      <td>0.536667</td>\n",
       "      <td>0.576667</td>\n",
       "      <td>1.406667</td>\n",
       "      <td>1.846667</td>\n",
       "      <td>0.600000</td>\n",
       "      <td>1.103333</td>\n",
       "      <td>...</td>\n",
       "      <td>0.630000</td>\n",
       "      <td>0.633333</td>\n",
       "      <td>0.996667</td>\n",
       "      <td>0.646667</td>\n",
       "      <td>0.533333</td>\n",
       "      <td>0.680000</td>\n",
       "      <td>0.693333</td>\n",
       "      <td>-246.5025</td>\n",
       "      <td>0</td>\n",
       "      <td>train</td>\n",
       "    </tr>\n",
       "    <tr>\n",
       "      <th>227841</th>\n",
       "      <td>147361</td>\n",
       "      <td>Grp199</td>\n",
       "      <td>1.363333</td>\n",
       "      <td>0.730000</td>\n",
       "      <td>0.060000</td>\n",
       "      <td>0.776667</td>\n",
       "      <td>0.883333</td>\n",
       "      <td>0.466667</td>\n",
       "      <td>0.733333</td>\n",
       "      <td>0.590000</td>\n",
       "      <td>...</td>\n",
       "      <td>0.356667</td>\n",
       "      <td>0.766667</td>\n",
       "      <td>0.730000</td>\n",
       "      <td>0.596667</td>\n",
       "      <td>0.730000</td>\n",
       "      <td>0.646667</td>\n",
       "      <td>0.656667</td>\n",
       "      <td>-249.7775</td>\n",
       "      <td>0</td>\n",
       "      <td>train</td>\n",
       "    </tr>\n",
       "    <tr>\n",
       "      <th>227842</th>\n",
       "      <td>50989</td>\n",
       "      <td>Grp36</td>\n",
       "      <td>1.060000</td>\n",
       "      <td>0.756667</td>\n",
       "      <td>0.906667</td>\n",
       "      <td>0.896667</td>\n",
       "      <td>0.503333</td>\n",
       "      <td>0.396667</td>\n",
       "      <td>0.683333</td>\n",
       "      <td>0.620000</td>\n",
       "      <td>...</td>\n",
       "      <td>0.510000</td>\n",
       "      <td>0.740000</td>\n",
       "      <td>0.873333</td>\n",
       "      <td>0.700000</td>\n",
       "      <td>0.696667</td>\n",
       "      <td>0.663333</td>\n",
       "      <td>0.673333</td>\n",
       "      <td>-249.7775</td>\n",
       "      <td>0</td>\n",
       "      <td>train</td>\n",
       "    </tr>\n",
       "    <tr>\n",
       "      <th>227843</th>\n",
       "      <td>149780</td>\n",
       "      <td>Grp445</td>\n",
       "      <td>0.433333</td>\n",
       "      <td>1.013333</td>\n",
       "      <td>1.163333</td>\n",
       "      <td>0.940000</td>\n",
       "      <td>0.930000</td>\n",
       "      <td>0.900000</td>\n",
       "      <td>0.813333</td>\n",
       "      <td>0.720000</td>\n",
       "      <td>...</td>\n",
       "      <td>0.606667</td>\n",
       "      <td>0.540000</td>\n",
       "      <td>0.643333</td>\n",
       "      <td>0.906667</td>\n",
       "      <td>0.540000</td>\n",
       "      <td>0.766667</td>\n",
       "      <td>0.710000</td>\n",
       "      <td>-242.7500</td>\n",
       "      <td>0</td>\n",
       "      <td>train</td>\n",
       "    </tr>\n",
       "    <tr>\n",
       "      <th>227844</th>\n",
       "      <td>22175</td>\n",
       "      <td>Grp143</td>\n",
       "      <td>1.006667</td>\n",
       "      <td>0.553333</td>\n",
       "      <td>0.946667</td>\n",
       "      <td>1.206667</td>\n",
       "      <td>0.406667</td>\n",
       "      <td>0.750000</td>\n",
       "      <td>0.520000</td>\n",
       "      <td>0.756667</td>\n",
       "      <td>...</td>\n",
       "      <td>0.646667</td>\n",
       "      <td>0.636667</td>\n",
       "      <td>0.683333</td>\n",
       "      <td>0.843333</td>\n",
       "      <td>0.580000</td>\n",
       "      <td>0.683333</td>\n",
       "      <td>0.676667</td>\n",
       "      <td>-235.0000</td>\n",
       "      <td>0</td>\n",
       "      <td>train</td>\n",
       "    </tr>\n",
       "  </tbody>\n",
       "</table>\n",
       "<p>5 rows × 29 columns</p>\n",
       "</div>"
      ],
      "text/plain": [
       "            id   Group      Per1      Per2      Per3      Per4      Per5  \\\n",
       "227840   97346  Grp232  0.476667  1.013333  0.536667  0.576667  1.406667   \n",
       "227841  147361  Grp199  1.363333  0.730000  0.060000  0.776667  0.883333   \n",
       "227842   50989   Grp36  1.060000  0.756667  0.906667  0.896667  0.503333   \n",
       "227843  149780  Grp445  0.433333  1.013333  1.163333  0.940000  0.930000   \n",
       "227844   22175  Grp143  1.006667  0.553333  0.946667  1.206667  0.406667   \n",
       "\n",
       "            Per6      Per7      Per8  ...      Dem9     Cred1     Cred2  \\\n",
       "227840  1.846667  0.600000  1.103333  ...  0.630000  0.633333  0.996667   \n",
       "227841  0.466667  0.733333  0.590000  ...  0.356667  0.766667  0.730000   \n",
       "227842  0.396667  0.683333  0.620000  ...  0.510000  0.740000  0.873333   \n",
       "227843  0.900000  0.813333  0.720000  ...  0.606667  0.540000  0.643333   \n",
       "227844  0.750000  0.520000  0.756667  ...  0.646667  0.636667  0.683333   \n",
       "\n",
       "           Cred3     Cred4     Cred5     Cred6  Normalised_FNT  Target   data  \n",
       "227840  0.646667  0.533333  0.680000  0.693333       -246.5025       0  train  \n",
       "227841  0.596667  0.730000  0.646667  0.656667       -249.7775       0  train  \n",
       "227842  0.700000  0.696667  0.663333  0.673333       -249.7775       0  train  \n",
       "227843  0.906667  0.540000  0.766667  0.710000       -242.7500       0  train  \n",
       "227844  0.843333  0.580000  0.683333  0.676667       -235.0000       0  train  \n",
       "\n",
       "[5 rows x 29 columns]"
      ]
     },
     "execution_count": 9,
     "metadata": {},
     "output_type": "execute_result"
    }
   ],
   "source": [
    "train_data.tail()"
   ]
  },
  {
   "cell_type": "code",
   "execution_count": 10,
   "id": "f1ea57ab-abb9-4b42-bcc0-42089fbca3d8",
   "metadata": {},
   "outputs": [],
   "source": [
    "all_data = pd.concat([train_data,test_data],axis=0)"
   ]
  },
  {
   "cell_type": "code",
   "execution_count": 11,
   "id": "2a9e6b75-d8f4-4d15-9f90-94a584e164ad",
   "metadata": {},
   "outputs": [
    {
     "data": {
      "text/html": [
       "<div>\n",
       "<style scoped>\n",
       "    .dataframe tbody tr th:only-of-type {\n",
       "        vertical-align: middle;\n",
       "    }\n",
       "\n",
       "    .dataframe tbody tr th {\n",
       "        vertical-align: top;\n",
       "    }\n",
       "\n",
       "    .dataframe thead th {\n",
       "        text-align: right;\n",
       "    }\n",
       "</style>\n",
       "<table border=\"1\" class=\"dataframe\">\n",
       "  <thead>\n",
       "    <tr style=\"text-align: right;\">\n",
       "      <th></th>\n",
       "      <th>id</th>\n",
       "      <th>Group</th>\n",
       "      <th>Per1</th>\n",
       "      <th>Per2</th>\n",
       "      <th>Per3</th>\n",
       "      <th>Per4</th>\n",
       "      <th>Per5</th>\n",
       "      <th>Per6</th>\n",
       "      <th>Per7</th>\n",
       "      <th>Per8</th>\n",
       "      <th>...</th>\n",
       "      <th>Dem9</th>\n",
       "      <th>Cred1</th>\n",
       "      <th>Cred2</th>\n",
       "      <th>Cred3</th>\n",
       "      <th>Cred4</th>\n",
       "      <th>Cred5</th>\n",
       "      <th>Cred6</th>\n",
       "      <th>Normalised_FNT</th>\n",
       "      <th>Target</th>\n",
       "      <th>data</th>\n",
       "    </tr>\n",
       "  </thead>\n",
       "  <tbody>\n",
       "    <tr>\n",
       "      <th>0</th>\n",
       "      <td>112751</td>\n",
       "      <td>Grp169</td>\n",
       "      <td>1.070000</td>\n",
       "      <td>0.580000</td>\n",
       "      <td>0.480000</td>\n",
       "      <td>0.766667</td>\n",
       "      <td>1.233333</td>\n",
       "      <td>1.993333</td>\n",
       "      <td>0.340000</td>\n",
       "      <td>1.010000</td>\n",
       "      <td>...</td>\n",
       "      <td>0.726667</td>\n",
       "      <td>0.606667</td>\n",
       "      <td>1.010000</td>\n",
       "      <td>0.933333</td>\n",
       "      <td>0.603333</td>\n",
       "      <td>0.686667</td>\n",
       "      <td>0.673333</td>\n",
       "      <td>-245.7500</td>\n",
       "      <td>0.0</td>\n",
       "      <td>train</td>\n",
       "    </tr>\n",
       "    <tr>\n",
       "      <th>1</th>\n",
       "      <td>18495</td>\n",
       "      <td>Grp161</td>\n",
       "      <td>0.473333</td>\n",
       "      <td>1.206667</td>\n",
       "      <td>0.883333</td>\n",
       "      <td>1.430000</td>\n",
       "      <td>0.726667</td>\n",
       "      <td>0.626667</td>\n",
       "      <td>0.810000</td>\n",
       "      <td>0.783333</td>\n",
       "      <td>...</td>\n",
       "      <td>0.743333</td>\n",
       "      <td>0.680000</td>\n",
       "      <td>0.690000</td>\n",
       "      <td>0.560000</td>\n",
       "      <td>0.670000</td>\n",
       "      <td>0.553333</td>\n",
       "      <td>0.653333</td>\n",
       "      <td>-248.0000</td>\n",
       "      <td>0.0</td>\n",
       "      <td>train</td>\n",
       "    </tr>\n",
       "    <tr>\n",
       "      <th>2</th>\n",
       "      <td>23915</td>\n",
       "      <td>Grp261</td>\n",
       "      <td>1.130000</td>\n",
       "      <td>0.143333</td>\n",
       "      <td>0.946667</td>\n",
       "      <td>0.123333</td>\n",
       "      <td>0.080000</td>\n",
       "      <td>0.836667</td>\n",
       "      <td>0.056667</td>\n",
       "      <td>0.756667</td>\n",
       "      <td>...</td>\n",
       "      <td>0.820000</td>\n",
       "      <td>0.600000</td>\n",
       "      <td>0.383333</td>\n",
       "      <td>0.763333</td>\n",
       "      <td>0.670000</td>\n",
       "      <td>0.686667</td>\n",
       "      <td>0.673333</td>\n",
       "      <td>-233.1250</td>\n",
       "      <td>0.0</td>\n",
       "      <td>train</td>\n",
       "    </tr>\n",
       "    <tr>\n",
       "      <th>3</th>\n",
       "      <td>50806</td>\n",
       "      <td>Grp198</td>\n",
       "      <td>0.636667</td>\n",
       "      <td>1.090000</td>\n",
       "      <td>0.750000</td>\n",
       "      <td>0.940000</td>\n",
       "      <td>0.743333</td>\n",
       "      <td>0.346667</td>\n",
       "      <td>0.956667</td>\n",
       "      <td>0.633333</td>\n",
       "      <td>...</td>\n",
       "      <td>0.900000</td>\n",
       "      <td>0.680000</td>\n",
       "      <td>0.846667</td>\n",
       "      <td>0.423333</td>\n",
       "      <td>0.520000</td>\n",
       "      <td>0.846667</td>\n",
       "      <td>0.760000</td>\n",
       "      <td>-249.7775</td>\n",
       "      <td>0.0</td>\n",
       "      <td>train</td>\n",
       "    </tr>\n",
       "    <tr>\n",
       "      <th>4</th>\n",
       "      <td>184244</td>\n",
       "      <td>Grp228</td>\n",
       "      <td>0.560000</td>\n",
       "      <td>1.013333</td>\n",
       "      <td>0.593333</td>\n",
       "      <td>0.416667</td>\n",
       "      <td>0.773333</td>\n",
       "      <td>0.460000</td>\n",
       "      <td>0.853333</td>\n",
       "      <td>0.796667</td>\n",
       "      <td>...</td>\n",
       "      <td>0.486667</td>\n",
       "      <td>0.693333</td>\n",
       "      <td>0.526667</td>\n",
       "      <td>0.520000</td>\n",
       "      <td>0.716667</td>\n",
       "      <td>0.706667</td>\n",
       "      <td>0.673333</td>\n",
       "      <td>-247.5775</td>\n",
       "      <td>0.0</td>\n",
       "      <td>train</td>\n",
       "    </tr>\n",
       "  </tbody>\n",
       "</table>\n",
       "<p>5 rows × 29 columns</p>\n",
       "</div>"
      ],
      "text/plain": [
       "       id   Group      Per1      Per2      Per3      Per4      Per5      Per6  \\\n",
       "0  112751  Grp169  1.070000  0.580000  0.480000  0.766667  1.233333  1.993333   \n",
       "1   18495  Grp161  0.473333  1.206667  0.883333  1.430000  0.726667  0.626667   \n",
       "2   23915  Grp261  1.130000  0.143333  0.946667  0.123333  0.080000  0.836667   \n",
       "3   50806  Grp198  0.636667  1.090000  0.750000  0.940000  0.743333  0.346667   \n",
       "4  184244  Grp228  0.560000  1.013333  0.593333  0.416667  0.773333  0.460000   \n",
       "\n",
       "       Per7      Per8  ...      Dem9     Cred1     Cred2     Cred3     Cred4  \\\n",
       "0  0.340000  1.010000  ...  0.726667  0.606667  1.010000  0.933333  0.603333   \n",
       "1  0.810000  0.783333  ...  0.743333  0.680000  0.690000  0.560000  0.670000   \n",
       "2  0.056667  0.756667  ...  0.820000  0.600000  0.383333  0.763333  0.670000   \n",
       "3  0.956667  0.633333  ...  0.900000  0.680000  0.846667  0.423333  0.520000   \n",
       "4  0.853333  0.796667  ...  0.486667  0.693333  0.526667  0.520000  0.716667   \n",
       "\n",
       "      Cred5     Cred6  Normalised_FNT  Target   data  \n",
       "0  0.686667  0.673333       -245.7500     0.0  train  \n",
       "1  0.553333  0.653333       -248.0000     0.0  train  \n",
       "2  0.686667  0.673333       -233.1250     0.0  train  \n",
       "3  0.846667  0.760000       -249.7775     0.0  train  \n",
       "4  0.706667  0.673333       -247.5775     0.0  train  \n",
       "\n",
       "[5 rows x 29 columns]"
      ]
     },
     "execution_count": 11,
     "metadata": {},
     "output_type": "execute_result"
    }
   ],
   "source": [
    "all_data.head()"
   ]
  },
  {
   "cell_type": "code",
   "execution_count": 12,
   "id": "d9e2ae93-a55e-441a-860c-d2bd6dbcc6c1",
   "metadata": {},
   "outputs": [
    {
     "data": {
      "text/html": [
       "<div>\n",
       "<style scoped>\n",
       "    .dataframe tbody tr th:only-of-type {\n",
       "        vertical-align: middle;\n",
       "    }\n",
       "\n",
       "    .dataframe tbody tr th {\n",
       "        vertical-align: top;\n",
       "    }\n",
       "\n",
       "    .dataframe thead th {\n",
       "        text-align: right;\n",
       "    }\n",
       "</style>\n",
       "<table border=\"1\" class=\"dataframe\">\n",
       "  <thead>\n",
       "    <tr style=\"text-align: right;\">\n",
       "      <th></th>\n",
       "      <th>id</th>\n",
       "      <th>Group</th>\n",
       "      <th>Per1</th>\n",
       "      <th>Per2</th>\n",
       "      <th>Per3</th>\n",
       "      <th>Per4</th>\n",
       "      <th>Per5</th>\n",
       "      <th>Per6</th>\n",
       "      <th>Per7</th>\n",
       "      <th>Per8</th>\n",
       "      <th>...</th>\n",
       "      <th>Dem9</th>\n",
       "      <th>Cred1</th>\n",
       "      <th>Cred2</th>\n",
       "      <th>Cred3</th>\n",
       "      <th>Cred4</th>\n",
       "      <th>Cred5</th>\n",
       "      <th>Cred6</th>\n",
       "      <th>Normalised_FNT</th>\n",
       "      <th>Target</th>\n",
       "      <th>data</th>\n",
       "    </tr>\n",
       "  </thead>\n",
       "  <tbody>\n",
       "    <tr>\n",
       "      <th>56957</th>\n",
       "      <td>18333</td>\n",
       "      <td>Grp102</td>\n",
       "      <td>0.553333</td>\n",
       "      <td>1.043333</td>\n",
       "      <td>1.096667</td>\n",
       "      <td>0.686667</td>\n",
       "      <td>0.673333</td>\n",
       "      <td>0.340000</td>\n",
       "      <td>0.900000</td>\n",
       "      <td>0.643333</td>\n",
       "      <td>...</td>\n",
       "      <td>0.433333</td>\n",
       "      <td>0.660000</td>\n",
       "      <td>0.776667</td>\n",
       "      <td>0.610000</td>\n",
       "      <td>0.690000</td>\n",
       "      <td>0.750000</td>\n",
       "      <td>0.700000</td>\n",
       "      <td>-249.5050</td>\n",
       "      <td>NaN</td>\n",
       "      <td>test</td>\n",
       "    </tr>\n",
       "    <tr>\n",
       "      <th>56958</th>\n",
       "      <td>244207</td>\n",
       "      <td>Grp504</td>\n",
       "      <td>1.353333</td>\n",
       "      <td>0.616667</td>\n",
       "      <td>0.276667</td>\n",
       "      <td>0.783333</td>\n",
       "      <td>0.690000</td>\n",
       "      <td>0.650000</td>\n",
       "      <td>0.473333</td>\n",
       "      <td>0.670000</td>\n",
       "      <td>...</td>\n",
       "      <td>0.870000</td>\n",
       "      <td>0.683333</td>\n",
       "      <td>0.690000</td>\n",
       "      <td>0.640000</td>\n",
       "      <td>0.883333</td>\n",
       "      <td>0.663333</td>\n",
       "      <td>0.660000</td>\n",
       "      <td>-248.7525</td>\n",
       "      <td>NaN</td>\n",
       "      <td>test</td>\n",
       "    </tr>\n",
       "    <tr>\n",
       "      <th>56959</th>\n",
       "      <td>103277</td>\n",
       "      <td>Grp78</td>\n",
       "      <td>1.083333</td>\n",
       "      <td>0.433333</td>\n",
       "      <td>0.806667</td>\n",
       "      <td>0.490000</td>\n",
       "      <td>0.243333</td>\n",
       "      <td>0.316667</td>\n",
       "      <td>0.533333</td>\n",
       "      <td>0.606667</td>\n",
       "      <td>...</td>\n",
       "      <td>0.063333</td>\n",
       "      <td>0.753333</td>\n",
       "      <td>0.780000</td>\n",
       "      <td>0.603333</td>\n",
       "      <td>0.880000</td>\n",
       "      <td>0.643333</td>\n",
       "      <td>0.676667</td>\n",
       "      <td>-231.0500</td>\n",
       "      <td>NaN</td>\n",
       "      <td>test</td>\n",
       "    </tr>\n",
       "    <tr>\n",
       "      <th>56960</th>\n",
       "      <td>273294</td>\n",
       "      <td>Grp134</td>\n",
       "      <td>0.566667</td>\n",
       "      <td>1.153333</td>\n",
       "      <td>0.370000</td>\n",
       "      <td>0.616667</td>\n",
       "      <td>0.793333</td>\n",
       "      <td>0.226667</td>\n",
       "      <td>0.910000</td>\n",
       "      <td>0.696667</td>\n",
       "      <td>...</td>\n",
       "      <td>1.026667</td>\n",
       "      <td>0.626667</td>\n",
       "      <td>0.646667</td>\n",
       "      <td>0.566667</td>\n",
       "      <td>0.616667</td>\n",
       "      <td>0.713333</td>\n",
       "      <td>0.706667</td>\n",
       "      <td>-246.3150</td>\n",
       "      <td>NaN</td>\n",
       "      <td>test</td>\n",
       "    </tr>\n",
       "    <tr>\n",
       "      <th>56961</th>\n",
       "      <td>223337</td>\n",
       "      <td>Grp18</td>\n",
       "      <td>1.426667</td>\n",
       "      <td>0.110000</td>\n",
       "      <td>-0.006667</td>\n",
       "      <td>-0.200000</td>\n",
       "      <td>0.983333</td>\n",
       "      <td>1.870000</td>\n",
       "      <td>0.033333</td>\n",
       "      <td>0.963333</td>\n",
       "      <td>...</td>\n",
       "      <td>0.670000</td>\n",
       "      <td>0.770000</td>\n",
       "      <td>0.893333</td>\n",
       "      <td>0.586667</td>\n",
       "      <td>0.616667</td>\n",
       "      <td>0.683333</td>\n",
       "      <td>0.650000</td>\n",
       "      <td>-248.4500</td>\n",
       "      <td>NaN</td>\n",
       "      <td>test</td>\n",
       "    </tr>\n",
       "  </tbody>\n",
       "</table>\n",
       "<p>5 rows × 29 columns</p>\n",
       "</div>"
      ],
      "text/plain": [
       "           id   Group      Per1      Per2      Per3      Per4      Per5  \\\n",
       "56957   18333  Grp102  0.553333  1.043333  1.096667  0.686667  0.673333   \n",
       "56958  244207  Grp504  1.353333  0.616667  0.276667  0.783333  0.690000   \n",
       "56959  103277   Grp78  1.083333  0.433333  0.806667  0.490000  0.243333   \n",
       "56960  273294  Grp134  0.566667  1.153333  0.370000  0.616667  0.793333   \n",
       "56961  223337   Grp18  1.426667  0.110000 -0.006667 -0.200000  0.983333   \n",
       "\n",
       "           Per6      Per7      Per8  ...      Dem9     Cred1     Cred2  \\\n",
       "56957  0.340000  0.900000  0.643333  ...  0.433333  0.660000  0.776667   \n",
       "56958  0.650000  0.473333  0.670000  ...  0.870000  0.683333  0.690000   \n",
       "56959  0.316667  0.533333  0.606667  ...  0.063333  0.753333  0.780000   \n",
       "56960  0.226667  0.910000  0.696667  ...  1.026667  0.626667  0.646667   \n",
       "56961  1.870000  0.033333  0.963333  ...  0.670000  0.770000  0.893333   \n",
       "\n",
       "          Cred3     Cred4     Cred5     Cred6  Normalised_FNT  Target  data  \n",
       "56957  0.610000  0.690000  0.750000  0.700000       -249.5050     NaN  test  \n",
       "56958  0.640000  0.883333  0.663333  0.660000       -248.7525     NaN  test  \n",
       "56959  0.603333  0.880000  0.643333  0.676667       -231.0500     NaN  test  \n",
       "56960  0.566667  0.616667  0.713333  0.706667       -246.3150     NaN  test  \n",
       "56961  0.586667  0.616667  0.683333  0.650000       -248.4500     NaN  test  \n",
       "\n",
       "[5 rows x 29 columns]"
      ]
     },
     "execution_count": 12,
     "metadata": {},
     "output_type": "execute_result"
    }
   ],
   "source": [
    "all_data.tail()"
   ]
  },
  {
   "cell_type": "code",
   "execution_count": 13,
   "id": "5f327cd1-a0d4-4ff7-98ec-b40010043a38",
   "metadata": {},
   "outputs": [
    {
     "data": {
      "text/plain": [
       "Index(['id', 'Group', 'Per1', 'Per2', 'Per3', 'Per4', 'Per5', 'Per6', 'Per7',\n",
       "       'Per8', 'Per9', 'Dem1', 'Dem2', 'Dem3', 'Dem4', 'Dem5', 'Dem6', 'Dem7',\n",
       "       'Dem8', 'Dem9', 'Cred1', 'Cred2', 'Cred3', 'Cred4', 'Cred5', 'Cred6',\n",
       "       'Normalised_FNT', 'Target', 'data'],\n",
       "      dtype='object')"
      ]
     },
     "execution_count": 13,
     "metadata": {},
     "output_type": "execute_result"
    }
   ],
   "source": [
    "all_data.columns"
   ]
  },
  {
   "cell_type": "code",
   "execution_count": 14,
   "id": "d7977f96-f932-458a-a4f9-a8bea40d6587",
   "metadata": {},
   "outputs": [
    {
     "name": "stdout",
     "output_type": "stream",
     "text": [
      "all_data id 284807\n",
      "\n",
      "all_data group 1400\n"
     ]
    }
   ],
   "source": [
    "print(\"all_data id\",all_data['id'].nunique())\n",
    "print()\n",
    "print(\"all_data group\",all_data['Group'].nunique())"
   ]
  },
  {
   "cell_type": "code",
   "execution_count": 15,
   "id": "274db354-ffdb-496f-b76b-51fa26c6bc97",
   "metadata": {},
   "outputs": [
    {
     "name": "stdout",
     "output_type": "stream",
     "text": [
      "id               0\n",
      "geo_score    71543\n",
      "dtype: int64\n",
      "\n",
      "id                 0\n",
      "instance_scores    0\n",
      "dtype: int64\n",
      "\n",
      "Group        0\n",
      "lambda_wt    0\n",
      "dtype: int64\n",
      "\n",
      "id                           0\n",
      "qsets_normalized_tat    103201\n",
      "dtype: int64\n",
      "\n",
      "id                    0\n",
      "Group                 0\n",
      "Per1                  0\n",
      "Per2                  0\n",
      "Per3                  0\n",
      "Per4                  0\n",
      "Per5                  0\n",
      "Per6                  0\n",
      "Per7                  0\n",
      "Per8                  0\n",
      "Per9                  0\n",
      "Dem1                  0\n",
      "Dem2                  0\n",
      "Dem3                  0\n",
      "Dem4                  0\n",
      "Dem5                  0\n",
      "Dem6                  0\n",
      "Dem7                  0\n",
      "Dem8                  0\n",
      "Dem9                  0\n",
      "Cred1                 0\n",
      "Cred2                 0\n",
      "Cred3                 0\n",
      "Cred4                 0\n",
      "Cred5                 0\n",
      "Cred6                 0\n",
      "Normalised_FNT        0\n",
      "Target            56962\n",
      "data                  0\n",
      "dtype: int64\n"
     ]
    }
   ],
   "source": [
    "print(geo.isnull().sum())\n",
    "print()\n",
    "print(instance.isnull().sum())\n",
    "print()\n",
    "print(lambdawts.isnull().sum())\n",
    "print()\n",
    "print(qset.isnull().sum())\n",
    "print()\n",
    "print(all_data.isnull().sum())"
   ]
  },
  {
   "cell_type": "code",
   "execution_count": 16,
   "id": "561a4a69-f4ce-4ba3-ae66-12ba7ab93fe7",
   "metadata": {},
   "outputs": [
    {
     "name": "stdout",
     "output_type": "stream",
     "text": [
      "                 id     geo_score\n",
      "count  1.424035e+06  1.352492e+06\n",
      "mean   1.424030e+05 -9.279168e-06\n",
      "std    8.221673e+04  7.827199e+00\n",
      "min    0.000000e+00 -1.093900e+02\n",
      "25%    7.120100e+04 -5.860000e+00\n",
      "50%    1.424030e+05  1.800000e-01\n",
      "75%    2.136050e+05  5.860000e+00\n",
      "max    2.848060e+05  4.581000e+01\n",
      "\n",
      "                 id  qsets_normalized_tat\n",
      "count  1.424035e+06          1.320834e+06\n",
      "mean   1.424030e+05          1.094006e-05\n",
      "std    8.221673e+04          7.731794e+00\n",
      "min    0.000000e+00         -1.404400e+02\n",
      "25%    7.120100e+04         -5.860000e+00\n",
      "50%    1.424030e+05          2.000000e-02\n",
      "75%    2.136050e+05          5.860000e+00\n",
      "max    2.848060e+05          6.110000e+01\n"
     ]
    }
   ],
   "source": [
    "print(geo.describe())\n",
    "print()\n",
    "print(qset.describe())"
   ]
  },
  {
   "cell_type": "code",
   "execution_count": 17,
   "id": "f38251d0-36a9-4df0-9649-c5fbef798797",
   "metadata": {},
   "outputs": [],
   "source": [
    "geo['geo_score']=geo['geo_score'].fillna(geo['geo_score'].median())\n",
    "qset['qsets_normalized_tat']=qset['qsets_normalized_tat'].fillna(qset['qsets_normalized_tat'].median())"
   ]
  },
  {
   "cell_type": "code",
   "execution_count": 18,
   "id": "29969b48-2e6f-446a-8958-9b6c1b27bc7d",
   "metadata": {},
   "outputs": [
    {
     "name": "stdout",
     "output_type": "stream",
     "text": [
      "id           0\n",
      "geo_score    0\n",
      "dtype: int64\n",
      "\n",
      "id                 0\n",
      "instance_scores    0\n",
      "dtype: int64\n",
      "\n",
      "Group        0\n",
      "lambda_wt    0\n",
      "dtype: int64\n",
      "\n",
      "id                      0\n",
      "qsets_normalized_tat    0\n",
      "dtype: int64\n",
      "\n",
      "id                    0\n",
      "Group                 0\n",
      "Per1                  0\n",
      "Per2                  0\n",
      "Per3                  0\n",
      "Per4                  0\n",
      "Per5                  0\n",
      "Per6                  0\n",
      "Per7                  0\n",
      "Per8                  0\n",
      "Per9                  0\n",
      "Dem1                  0\n",
      "Dem2                  0\n",
      "Dem3                  0\n",
      "Dem4                  0\n",
      "Dem5                  0\n",
      "Dem6                  0\n",
      "Dem7                  0\n",
      "Dem8                  0\n",
      "Dem9                  0\n",
      "Cred1                 0\n",
      "Cred2                 0\n",
      "Cred3                 0\n",
      "Cred4                 0\n",
      "Cred5                 0\n",
      "Cred6                 0\n",
      "Normalised_FNT        0\n",
      "Target            56962\n",
      "data                  0\n",
      "dtype: int64\n"
     ]
    }
   ],
   "source": [
    "print(geo.isnull().sum())\n",
    "print()\n",
    "print(instance.isnull().sum())\n",
    "print()\n",
    "print(lambdawts.isnull().sum())\n",
    "print()\n",
    "print(qset.isnull().sum())\n",
    "print()\n",
    "print(all_data.isnull().sum())"
   ]
  },
  {
   "cell_type": "code",
   "execution_count": 19,
   "id": "cd38e63d-cb5c-4ade-955b-d5cc8305f871",
   "metadata": {},
   "outputs": [
    {
     "data": {
      "text/plain": [
       "(1424035, 2)"
      ]
     },
     "execution_count": 19,
     "metadata": {},
     "output_type": "execute_result"
    }
   ],
   "source": [
    "geo.shape"
   ]
  },
  {
   "cell_type": "code",
   "execution_count": 20,
   "id": "791e2990-3e98-4fa6-b62f-9bc3f863956c",
   "metadata": {},
   "outputs": [
    {
     "data": {
      "text/plain": [
       "284807"
      ]
     },
     "execution_count": 20,
     "metadata": {},
     "output_type": "execute_result"
    }
   ],
   "source": [
    "geo['id'].nunique()"
   ]
  },
  {
   "cell_type": "code",
   "execution_count": 21,
   "id": "866dd395-c30f-4094-8186-15d756b100fe",
   "metadata": {},
   "outputs": [],
   "source": [
    "geo = geo.groupby('id').mean()"
   ]
  },
  {
   "cell_type": "code",
   "execution_count": 22,
   "id": "13d458a6-3217-48bb-b1d6-180937d14431",
   "metadata": {},
   "outputs": [
    {
     "data": {
      "text/plain": [
       "(284807, 1)"
      ]
     },
     "execution_count": 22,
     "metadata": {},
     "output_type": "execute_result"
    }
   ],
   "source": [
    "geo.shape"
   ]
  },
  {
   "cell_type": "code",
   "execution_count": 23,
   "id": "fb324b9f-5fcb-417e-924b-22047518728e",
   "metadata": {},
   "outputs": [
    {
     "data": {
      "text/html": [
       "<div>\n",
       "<style scoped>\n",
       "    .dataframe tbody tr th:only-of-type {\n",
       "        vertical-align: middle;\n",
       "    }\n",
       "\n",
       "    .dataframe tbody tr th {\n",
       "        vertical-align: top;\n",
       "    }\n",
       "\n",
       "    .dataframe thead th {\n",
       "        text-align: right;\n",
       "    }\n",
       "</style>\n",
       "<table border=\"1\" class=\"dataframe\">\n",
       "  <thead>\n",
       "    <tr style=\"text-align: right;\">\n",
       "      <th></th>\n",
       "      <th>geo_score</th>\n",
       "    </tr>\n",
       "    <tr>\n",
       "      <th>id</th>\n",
       "      <th></th>\n",
       "    </tr>\n",
       "  </thead>\n",
       "  <tbody>\n",
       "    <tr>\n",
       "      <th>0</th>\n",
       "      <td>-0.620</td>\n",
       "    </tr>\n",
       "    <tr>\n",
       "      <th>1</th>\n",
       "      <td>1.106</td>\n",
       "    </tr>\n",
       "    <tr>\n",
       "      <th>2</th>\n",
       "      <td>0.070</td>\n",
       "    </tr>\n",
       "    <tr>\n",
       "      <th>3</th>\n",
       "      <td>0.180</td>\n",
       "    </tr>\n",
       "    <tr>\n",
       "      <th>4</th>\n",
       "      <td>0.540</td>\n",
       "    </tr>\n",
       "    <tr>\n",
       "      <th>...</th>\n",
       "      <td>...</td>\n",
       "    </tr>\n",
       "    <tr>\n",
       "      <th>284802</th>\n",
       "      <td>2.710</td>\n",
       "    </tr>\n",
       "    <tr>\n",
       "      <th>284803</th>\n",
       "      <td>0.956</td>\n",
       "    </tr>\n",
       "    <tr>\n",
       "      <th>284804</th>\n",
       "      <td>0.060</td>\n",
       "    </tr>\n",
       "    <tr>\n",
       "      <th>284805</th>\n",
       "      <td>-0.960</td>\n",
       "    </tr>\n",
       "    <tr>\n",
       "      <th>284806</th>\n",
       "      <td>-0.030</td>\n",
       "    </tr>\n",
       "  </tbody>\n",
       "</table>\n",
       "<p>284807 rows × 1 columns</p>\n",
       "</div>"
      ],
      "text/plain": [
       "        geo_score\n",
       "id               \n",
       "0          -0.620\n",
       "1           1.106\n",
       "2           0.070\n",
       "3           0.180\n",
       "4           0.540\n",
       "...           ...\n",
       "284802      2.710\n",
       "284803      0.956\n",
       "284804      0.060\n",
       "284805     -0.960\n",
       "284806     -0.030\n",
       "\n",
       "[284807 rows x 1 columns]"
      ]
     },
     "execution_count": 23,
     "metadata": {},
     "output_type": "execute_result"
    }
   ],
   "source": [
    "geo"
   ]
  },
  {
   "cell_type": "code",
   "execution_count": 24,
   "id": "ebebaff8-832e-4a1e-a929-3f4e2089f0da",
   "metadata": {},
   "outputs": [],
   "source": [
    "qset = qset.groupby('id').mean()"
   ]
  },
  {
   "cell_type": "code",
   "execution_count": 25,
   "id": "65fe7945-722d-4294-b219-a2cc4bb64628",
   "metadata": {},
   "outputs": [
    {
     "data": {
      "text/plain": [
       "(284807, 1)"
      ]
     },
     "execution_count": 25,
     "metadata": {},
     "output_type": "execute_result"
    }
   ],
   "source": [
    "qset.shape"
   ]
  },
  {
   "cell_type": "code",
   "execution_count": 26,
   "id": "1b48472d-c7c8-4df8-86f5-b9fb37f465eb",
   "metadata": {},
   "outputs": [
    {
     "data": {
      "text/plain": [
       "(1424035, 2)"
      ]
     },
     "execution_count": 26,
     "metadata": {},
     "output_type": "execute_result"
    }
   ],
   "source": [
    "instance.shape"
   ]
  },
  {
   "cell_type": "code",
   "execution_count": 27,
   "id": "36ede184-0adb-4369-8a37-6d894e22c07d",
   "metadata": {},
   "outputs": [],
   "source": [
    "instance=instance.groupby('id').mean()"
   ]
  },
  {
   "cell_type": "code",
   "execution_count": 28,
   "id": "e7c9c5f6-2a23-45c8-86b0-a87487287adf",
   "metadata": {},
   "outputs": [
    {
     "data": {
      "text/plain": [
       "(284807, 1)"
      ]
     },
     "execution_count": 28,
     "metadata": {},
     "output_type": "execute_result"
    }
   ],
   "source": [
    "instance.shape"
   ]
  },
  {
   "cell_type": "code",
   "execution_count": 29,
   "id": "eed22461-4a4a-43e4-848c-cf7b6aad265e",
   "metadata": {},
   "outputs": [
    {
     "data": {
      "text/plain": [
       "(1400, 2)"
      ]
     },
     "execution_count": 29,
     "metadata": {},
     "output_type": "execute_result"
    }
   ],
   "source": [
    "lambdawts.shape"
   ]
  },
  {
   "cell_type": "code",
   "execution_count": 30,
   "id": "8c7b3129-0278-441d-a90d-694822f638f5",
   "metadata": {},
   "outputs": [
    {
     "data": {
      "text/html": [
       "<div>\n",
       "<style scoped>\n",
       "    .dataframe tbody tr th:only-of-type {\n",
       "        vertical-align: middle;\n",
       "    }\n",
       "\n",
       "    .dataframe tbody tr th {\n",
       "        vertical-align: top;\n",
       "    }\n",
       "\n",
       "    .dataframe thead th {\n",
       "        text-align: right;\n",
       "    }\n",
       "</style>\n",
       "<table border=\"1\" class=\"dataframe\">\n",
       "  <thead>\n",
       "    <tr style=\"text-align: right;\">\n",
       "      <th></th>\n",
       "      <th>id</th>\n",
       "      <th>Group</th>\n",
       "      <th>Per1</th>\n",
       "      <th>Per2</th>\n",
       "      <th>Per3</th>\n",
       "      <th>Per4</th>\n",
       "      <th>Per5</th>\n",
       "      <th>Per6</th>\n",
       "      <th>Per7</th>\n",
       "      <th>Per8</th>\n",
       "      <th>...</th>\n",
       "      <th>Dem9</th>\n",
       "      <th>Cred1</th>\n",
       "      <th>Cred2</th>\n",
       "      <th>Cred3</th>\n",
       "      <th>Cred4</th>\n",
       "      <th>Cred5</th>\n",
       "      <th>Cred6</th>\n",
       "      <th>Normalised_FNT</th>\n",
       "      <th>Target</th>\n",
       "      <th>data</th>\n",
       "    </tr>\n",
       "  </thead>\n",
       "  <tbody>\n",
       "    <tr>\n",
       "      <th>0</th>\n",
       "      <td>112751</td>\n",
       "      <td>Grp169</td>\n",
       "      <td>1.070000</td>\n",
       "      <td>0.580000</td>\n",
       "      <td>0.480000</td>\n",
       "      <td>0.766667</td>\n",
       "      <td>1.233333</td>\n",
       "      <td>1.993333</td>\n",
       "      <td>0.340000</td>\n",
       "      <td>1.010000</td>\n",
       "      <td>...</td>\n",
       "      <td>0.726667</td>\n",
       "      <td>0.606667</td>\n",
       "      <td>1.010000</td>\n",
       "      <td>0.933333</td>\n",
       "      <td>0.603333</td>\n",
       "      <td>0.686667</td>\n",
       "      <td>0.673333</td>\n",
       "      <td>-245.7500</td>\n",
       "      <td>0.0</td>\n",
       "      <td>train</td>\n",
       "    </tr>\n",
       "    <tr>\n",
       "      <th>1</th>\n",
       "      <td>18495</td>\n",
       "      <td>Grp161</td>\n",
       "      <td>0.473333</td>\n",
       "      <td>1.206667</td>\n",
       "      <td>0.883333</td>\n",
       "      <td>1.430000</td>\n",
       "      <td>0.726667</td>\n",
       "      <td>0.626667</td>\n",
       "      <td>0.810000</td>\n",
       "      <td>0.783333</td>\n",
       "      <td>...</td>\n",
       "      <td>0.743333</td>\n",
       "      <td>0.680000</td>\n",
       "      <td>0.690000</td>\n",
       "      <td>0.560000</td>\n",
       "      <td>0.670000</td>\n",
       "      <td>0.553333</td>\n",
       "      <td>0.653333</td>\n",
       "      <td>-248.0000</td>\n",
       "      <td>0.0</td>\n",
       "      <td>train</td>\n",
       "    </tr>\n",
       "    <tr>\n",
       "      <th>2</th>\n",
       "      <td>23915</td>\n",
       "      <td>Grp261</td>\n",
       "      <td>1.130000</td>\n",
       "      <td>0.143333</td>\n",
       "      <td>0.946667</td>\n",
       "      <td>0.123333</td>\n",
       "      <td>0.080000</td>\n",
       "      <td>0.836667</td>\n",
       "      <td>0.056667</td>\n",
       "      <td>0.756667</td>\n",
       "      <td>...</td>\n",
       "      <td>0.820000</td>\n",
       "      <td>0.600000</td>\n",
       "      <td>0.383333</td>\n",
       "      <td>0.763333</td>\n",
       "      <td>0.670000</td>\n",
       "      <td>0.686667</td>\n",
       "      <td>0.673333</td>\n",
       "      <td>-233.1250</td>\n",
       "      <td>0.0</td>\n",
       "      <td>train</td>\n",
       "    </tr>\n",
       "    <tr>\n",
       "      <th>3</th>\n",
       "      <td>50806</td>\n",
       "      <td>Grp198</td>\n",
       "      <td>0.636667</td>\n",
       "      <td>1.090000</td>\n",
       "      <td>0.750000</td>\n",
       "      <td>0.940000</td>\n",
       "      <td>0.743333</td>\n",
       "      <td>0.346667</td>\n",
       "      <td>0.956667</td>\n",
       "      <td>0.633333</td>\n",
       "      <td>...</td>\n",
       "      <td>0.900000</td>\n",
       "      <td>0.680000</td>\n",
       "      <td>0.846667</td>\n",
       "      <td>0.423333</td>\n",
       "      <td>0.520000</td>\n",
       "      <td>0.846667</td>\n",
       "      <td>0.760000</td>\n",
       "      <td>-249.7775</td>\n",
       "      <td>0.0</td>\n",
       "      <td>train</td>\n",
       "    </tr>\n",
       "    <tr>\n",
       "      <th>4</th>\n",
       "      <td>184244</td>\n",
       "      <td>Grp228</td>\n",
       "      <td>0.560000</td>\n",
       "      <td>1.013333</td>\n",
       "      <td>0.593333</td>\n",
       "      <td>0.416667</td>\n",
       "      <td>0.773333</td>\n",
       "      <td>0.460000</td>\n",
       "      <td>0.853333</td>\n",
       "      <td>0.796667</td>\n",
       "      <td>...</td>\n",
       "      <td>0.486667</td>\n",
       "      <td>0.693333</td>\n",
       "      <td>0.526667</td>\n",
       "      <td>0.520000</td>\n",
       "      <td>0.716667</td>\n",
       "      <td>0.706667</td>\n",
       "      <td>0.673333</td>\n",
       "      <td>-247.5775</td>\n",
       "      <td>0.0</td>\n",
       "      <td>train</td>\n",
       "    </tr>\n",
       "  </tbody>\n",
       "</table>\n",
       "<p>5 rows × 29 columns</p>\n",
       "</div>"
      ],
      "text/plain": [
       "       id   Group      Per1      Per2      Per3      Per4      Per5      Per6  \\\n",
       "0  112751  Grp169  1.070000  0.580000  0.480000  0.766667  1.233333  1.993333   \n",
       "1   18495  Grp161  0.473333  1.206667  0.883333  1.430000  0.726667  0.626667   \n",
       "2   23915  Grp261  1.130000  0.143333  0.946667  0.123333  0.080000  0.836667   \n",
       "3   50806  Grp198  0.636667  1.090000  0.750000  0.940000  0.743333  0.346667   \n",
       "4  184244  Grp228  0.560000  1.013333  0.593333  0.416667  0.773333  0.460000   \n",
       "\n",
       "       Per7      Per8  ...      Dem9     Cred1     Cred2     Cred3     Cred4  \\\n",
       "0  0.340000  1.010000  ...  0.726667  0.606667  1.010000  0.933333  0.603333   \n",
       "1  0.810000  0.783333  ...  0.743333  0.680000  0.690000  0.560000  0.670000   \n",
       "2  0.056667  0.756667  ...  0.820000  0.600000  0.383333  0.763333  0.670000   \n",
       "3  0.956667  0.633333  ...  0.900000  0.680000  0.846667  0.423333  0.520000   \n",
       "4  0.853333  0.796667  ...  0.486667  0.693333  0.526667  0.520000  0.716667   \n",
       "\n",
       "      Cred5     Cred6  Normalised_FNT  Target   data  \n",
       "0  0.686667  0.673333       -245.7500     0.0  train  \n",
       "1  0.553333  0.653333       -248.0000     0.0  train  \n",
       "2  0.686667  0.673333       -233.1250     0.0  train  \n",
       "3  0.846667  0.760000       -249.7775     0.0  train  \n",
       "4  0.706667  0.673333       -247.5775     0.0  train  \n",
       "\n",
       "[5 rows x 29 columns]"
      ]
     },
     "execution_count": 30,
     "metadata": {},
     "output_type": "execute_result"
    }
   ],
   "source": [
    "all_data.head()"
   ]
  },
  {
   "cell_type": "code",
   "execution_count": 31,
   "id": "53c8fe2c-ffe1-4ba2-b83f-2155cce337b1",
   "metadata": {},
   "outputs": [],
   "source": [
    "all_data = pd.merge(all_data,geo,on='id',how='left')"
   ]
  },
  {
   "cell_type": "code",
   "execution_count": 32,
   "id": "0580a86f-a37a-4a89-a02a-6c8f51164572",
   "metadata": {},
   "outputs": [
    {
     "data": {
      "text/html": [
       "<div>\n",
       "<style scoped>\n",
       "    .dataframe tbody tr th:only-of-type {\n",
       "        vertical-align: middle;\n",
       "    }\n",
       "\n",
       "    .dataframe tbody tr th {\n",
       "        vertical-align: top;\n",
       "    }\n",
       "\n",
       "    .dataframe thead th {\n",
       "        text-align: right;\n",
       "    }\n",
       "</style>\n",
       "<table border=\"1\" class=\"dataframe\">\n",
       "  <thead>\n",
       "    <tr style=\"text-align: right;\">\n",
       "      <th></th>\n",
       "      <th>id</th>\n",
       "      <th>Group</th>\n",
       "      <th>Per1</th>\n",
       "      <th>Per2</th>\n",
       "      <th>Per3</th>\n",
       "      <th>Per4</th>\n",
       "      <th>Per5</th>\n",
       "      <th>Per6</th>\n",
       "      <th>Per7</th>\n",
       "      <th>Per8</th>\n",
       "      <th>...</th>\n",
       "      <th>Cred1</th>\n",
       "      <th>Cred2</th>\n",
       "      <th>Cred3</th>\n",
       "      <th>Cred4</th>\n",
       "      <th>Cred5</th>\n",
       "      <th>Cred6</th>\n",
       "      <th>Normalised_FNT</th>\n",
       "      <th>Target</th>\n",
       "      <th>data</th>\n",
       "      <th>geo_score</th>\n",
       "    </tr>\n",
       "  </thead>\n",
       "  <tbody>\n",
       "    <tr>\n",
       "      <th>0</th>\n",
       "      <td>112751</td>\n",
       "      <td>Grp169</td>\n",
       "      <td>1.070000</td>\n",
       "      <td>0.580000</td>\n",
       "      <td>0.480000</td>\n",
       "      <td>0.766667</td>\n",
       "      <td>1.233333</td>\n",
       "      <td>1.993333</td>\n",
       "      <td>0.34</td>\n",
       "      <td>1.010000</td>\n",
       "      <td>...</td>\n",
       "      <td>0.606667</td>\n",
       "      <td>1.01</td>\n",
       "      <td>0.933333</td>\n",
       "      <td>0.603333</td>\n",
       "      <td>0.686667</td>\n",
       "      <td>0.673333</td>\n",
       "      <td>-245.75</td>\n",
       "      <td>0.0</td>\n",
       "      <td>train</td>\n",
       "      <td>0.256</td>\n",
       "    </tr>\n",
       "    <tr>\n",
       "      <th>1</th>\n",
       "      <td>18495</td>\n",
       "      <td>Grp161</td>\n",
       "      <td>0.473333</td>\n",
       "      <td>1.206667</td>\n",
       "      <td>0.883333</td>\n",
       "      <td>1.430000</td>\n",
       "      <td>0.726667</td>\n",
       "      <td>0.626667</td>\n",
       "      <td>0.81</td>\n",
       "      <td>0.783333</td>\n",
       "      <td>...</td>\n",
       "      <td>0.680000</td>\n",
       "      <td>0.69</td>\n",
       "      <td>0.560000</td>\n",
       "      <td>0.670000</td>\n",
       "      <td>0.553333</td>\n",
       "      <td>0.653333</td>\n",
       "      <td>-248.00</td>\n",
       "      <td>0.0</td>\n",
       "      <td>train</td>\n",
       "      <td>-0.250</td>\n",
       "    </tr>\n",
       "  </tbody>\n",
       "</table>\n",
       "<p>2 rows × 30 columns</p>\n",
       "</div>"
      ],
      "text/plain": [
       "       id   Group      Per1      Per2      Per3      Per4      Per5      Per6  \\\n",
       "0  112751  Grp169  1.070000  0.580000  0.480000  0.766667  1.233333  1.993333   \n",
       "1   18495  Grp161  0.473333  1.206667  0.883333  1.430000  0.726667  0.626667   \n",
       "\n",
       "   Per7      Per8  ...     Cred1  Cred2     Cred3     Cred4     Cred5  \\\n",
       "0  0.34  1.010000  ...  0.606667   1.01  0.933333  0.603333  0.686667   \n",
       "1  0.81  0.783333  ...  0.680000   0.69  0.560000  0.670000  0.553333   \n",
       "\n",
       "      Cred6  Normalised_FNT  Target   data  geo_score  \n",
       "0  0.673333         -245.75     0.0  train      0.256  \n",
       "1  0.653333         -248.00     0.0  train     -0.250  \n",
       "\n",
       "[2 rows x 30 columns]"
      ]
     },
     "execution_count": 32,
     "metadata": {},
     "output_type": "execute_result"
    }
   ],
   "source": [
    "all_data.head(2)"
   ]
  },
  {
   "cell_type": "code",
   "execution_count": 33,
   "id": "fe3539c7-7fa0-4cc2-afe6-4776762e0202",
   "metadata": {},
   "outputs": [
    {
     "data": {
      "text/html": [
       "<div>\n",
       "<style scoped>\n",
       "    .dataframe tbody tr th:only-of-type {\n",
       "        vertical-align: middle;\n",
       "    }\n",
       "\n",
       "    .dataframe tbody tr th {\n",
       "        vertical-align: top;\n",
       "    }\n",
       "\n",
       "    .dataframe thead th {\n",
       "        text-align: right;\n",
       "    }\n",
       "</style>\n",
       "<table border=\"1\" class=\"dataframe\">\n",
       "  <thead>\n",
       "    <tr style=\"text-align: right;\">\n",
       "      <th></th>\n",
       "      <th>instance_scores</th>\n",
       "    </tr>\n",
       "    <tr>\n",
       "      <th>id</th>\n",
       "      <th></th>\n",
       "    </tr>\n",
       "  </thead>\n",
       "  <tbody>\n",
       "    <tr>\n",
       "      <th>0</th>\n",
       "      <td>0.09</td>\n",
       "    </tr>\n",
       "    <tr>\n",
       "      <th>1</th>\n",
       "      <td>-0.17</td>\n",
       "    </tr>\n",
       "    <tr>\n",
       "      <th>2</th>\n",
       "      <td>0.21</td>\n",
       "    </tr>\n",
       "    <tr>\n",
       "      <th>3</th>\n",
       "      <td>-0.05</td>\n",
       "    </tr>\n",
       "    <tr>\n",
       "      <th>4</th>\n",
       "      <td>0.75</td>\n",
       "    </tr>\n",
       "  </tbody>\n",
       "</table>\n",
       "</div>"
      ],
      "text/plain": [
       "    instance_scores\n",
       "id                 \n",
       "0              0.09\n",
       "1             -0.17\n",
       "2              0.21\n",
       "3             -0.05\n",
       "4              0.75"
      ]
     },
     "execution_count": 33,
     "metadata": {},
     "output_type": "execute_result"
    }
   ],
   "source": [
    "instance.head()"
   ]
  },
  {
   "cell_type": "code",
   "execution_count": 34,
   "id": "60c28653-b338-417e-9d59-8e7936332a8d",
   "metadata": {},
   "outputs": [],
   "source": [
    "all_data = pd.merge(all_data,instance,on='id',how='left')"
   ]
  },
  {
   "cell_type": "code",
   "execution_count": 35,
   "id": "2b70cea2-fb58-4ba8-9e98-f6fd172edfd1",
   "metadata": {},
   "outputs": [
    {
     "data": {
      "text/html": [
       "<div>\n",
       "<style scoped>\n",
       "    .dataframe tbody tr th:only-of-type {\n",
       "        vertical-align: middle;\n",
       "    }\n",
       "\n",
       "    .dataframe tbody tr th {\n",
       "        vertical-align: top;\n",
       "    }\n",
       "\n",
       "    .dataframe thead th {\n",
       "        text-align: right;\n",
       "    }\n",
       "</style>\n",
       "<table border=\"1\" class=\"dataframe\">\n",
       "  <thead>\n",
       "    <tr style=\"text-align: right;\">\n",
       "      <th></th>\n",
       "      <th>qsets_normalized_tat</th>\n",
       "    </tr>\n",
       "    <tr>\n",
       "      <th>id</th>\n",
       "      <th></th>\n",
       "    </tr>\n",
       "  </thead>\n",
       "  <tbody>\n",
       "    <tr>\n",
       "      <th>0</th>\n",
       "      <td>0.214</td>\n",
       "    </tr>\n",
       "    <tr>\n",
       "      <th>1</th>\n",
       "      <td>-0.110</td>\n",
       "    </tr>\n",
       "  </tbody>\n",
       "</table>\n",
       "</div>"
      ],
      "text/plain": [
       "    qsets_normalized_tat\n",
       "id                      \n",
       "0                  0.214\n",
       "1                 -0.110"
      ]
     },
     "execution_count": 35,
     "metadata": {},
     "output_type": "execute_result"
    }
   ],
   "source": [
    "qset.head(2)"
   ]
  },
  {
   "cell_type": "code",
   "execution_count": 36,
   "id": "5ff110db-9d5b-4156-a8e8-dc1a7fe1f0f3",
   "metadata": {},
   "outputs": [
    {
     "data": {
      "text/plain": [
       "1400"
      ]
     },
     "execution_count": 36,
     "metadata": {},
     "output_type": "execute_result"
    }
   ],
   "source": [
    "all_data['Group'].nunique()"
   ]
  },
  {
   "cell_type": "code",
   "execution_count": 37,
   "id": "6aca5427-0430-4b33-975f-fb21a9649bf8",
   "metadata": {},
   "outputs": [],
   "source": [
    "all_data = pd.merge(all_data,qset,on='id',how='left')"
   ]
  },
  {
   "cell_type": "code",
   "execution_count": 38,
   "id": "aed5ddf4-791e-4319-b69c-6d6b62df88a2",
   "metadata": {},
   "outputs": [
    {
     "data": {
      "text/html": [
       "<div>\n",
       "<style scoped>\n",
       "    .dataframe tbody tr th:only-of-type {\n",
       "        vertical-align: middle;\n",
       "    }\n",
       "\n",
       "    .dataframe tbody tr th {\n",
       "        vertical-align: top;\n",
       "    }\n",
       "\n",
       "    .dataframe thead th {\n",
       "        text-align: right;\n",
       "    }\n",
       "</style>\n",
       "<table border=\"1\" class=\"dataframe\">\n",
       "  <thead>\n",
       "    <tr style=\"text-align: right;\">\n",
       "      <th></th>\n",
       "      <th>Group</th>\n",
       "      <th>lambda_wt</th>\n",
       "    </tr>\n",
       "  </thead>\n",
       "  <tbody>\n",
       "    <tr>\n",
       "      <th>0</th>\n",
       "      <td>Grp936</td>\n",
       "      <td>3.41</td>\n",
       "    </tr>\n",
       "    <tr>\n",
       "      <th>1</th>\n",
       "      <td>Grp347</td>\n",
       "      <td>-2.88</td>\n",
       "    </tr>\n",
       "  </tbody>\n",
       "</table>\n",
       "</div>"
      ],
      "text/plain": [
       "    Group  lambda_wt\n",
       "0  Grp936       3.41\n",
       "1  Grp347      -2.88"
      ]
     },
     "execution_count": 38,
     "metadata": {},
     "output_type": "execute_result"
    }
   ],
   "source": [
    "lambdawts.head(2)"
   ]
  },
  {
   "cell_type": "code",
   "execution_count": 39,
   "id": "4bb9608f-d0a5-452c-bde2-03d779afcb8a",
   "metadata": {},
   "outputs": [],
   "source": [
    "all_data = pd.merge(all_data,lambdawts,on='Group',how='left')"
   ]
  },
  {
   "cell_type": "code",
   "execution_count": 40,
   "id": "2d6bb669-929b-4850-86a5-557cc18783b9",
   "metadata": {},
   "outputs": [
    {
     "data": {
      "text/html": [
       "<div>\n",
       "<style scoped>\n",
       "    .dataframe tbody tr th:only-of-type {\n",
       "        vertical-align: middle;\n",
       "    }\n",
       "\n",
       "    .dataframe tbody tr th {\n",
       "        vertical-align: top;\n",
       "    }\n",
       "\n",
       "    .dataframe thead th {\n",
       "        text-align: right;\n",
       "    }\n",
       "</style>\n",
       "<table border=\"1\" class=\"dataframe\">\n",
       "  <thead>\n",
       "    <tr style=\"text-align: right;\">\n",
       "      <th></th>\n",
       "      <th>id</th>\n",
       "      <th>Group</th>\n",
       "      <th>Per1</th>\n",
       "      <th>Per2</th>\n",
       "      <th>Per3</th>\n",
       "      <th>Per4</th>\n",
       "      <th>Per5</th>\n",
       "      <th>Per6</th>\n",
       "      <th>Per7</th>\n",
       "      <th>Per8</th>\n",
       "      <th>...</th>\n",
       "      <th>Cred4</th>\n",
       "      <th>Cred5</th>\n",
       "      <th>Cred6</th>\n",
       "      <th>Normalised_FNT</th>\n",
       "      <th>Target</th>\n",
       "      <th>data</th>\n",
       "      <th>geo_score</th>\n",
       "      <th>instance_scores</th>\n",
       "      <th>qsets_normalized_tat</th>\n",
       "      <th>lambda_wt</th>\n",
       "    </tr>\n",
       "  </thead>\n",
       "  <tbody>\n",
       "    <tr>\n",
       "      <th>0</th>\n",
       "      <td>112751</td>\n",
       "      <td>Grp169</td>\n",
       "      <td>1.070000</td>\n",
       "      <td>0.580000</td>\n",
       "      <td>0.480000</td>\n",
       "      <td>0.766667</td>\n",
       "      <td>1.233333</td>\n",
       "      <td>1.993333</td>\n",
       "      <td>0.340000</td>\n",
       "      <td>1.010000</td>\n",
       "      <td>...</td>\n",
       "      <td>0.603333</td>\n",
       "      <td>0.686667</td>\n",
       "      <td>0.673333</td>\n",
       "      <td>-245.7500</td>\n",
       "      <td>0.0</td>\n",
       "      <td>train</td>\n",
       "      <td>0.256</td>\n",
       "      <td>-0.06</td>\n",
       "      <td>-0.700</td>\n",
       "      <td>-0.13</td>\n",
       "    </tr>\n",
       "    <tr>\n",
       "      <th>1</th>\n",
       "      <td>18495</td>\n",
       "      <td>Grp161</td>\n",
       "      <td>0.473333</td>\n",
       "      <td>1.206667</td>\n",
       "      <td>0.883333</td>\n",
       "      <td>1.430000</td>\n",
       "      <td>0.726667</td>\n",
       "      <td>0.626667</td>\n",
       "      <td>0.810000</td>\n",
       "      <td>0.783333</td>\n",
       "      <td>...</td>\n",
       "      <td>0.670000</td>\n",
       "      <td>0.553333</td>\n",
       "      <td>0.653333</td>\n",
       "      <td>-248.0000</td>\n",
       "      <td>0.0</td>\n",
       "      <td>train</td>\n",
       "      <td>-0.250</td>\n",
       "      <td>0.52</td>\n",
       "      <td>0.140</td>\n",
       "      <td>0.66</td>\n",
       "    </tr>\n",
       "    <tr>\n",
       "      <th>2</th>\n",
       "      <td>23915</td>\n",
       "      <td>Grp261</td>\n",
       "      <td>1.130000</td>\n",
       "      <td>0.143333</td>\n",
       "      <td>0.946667</td>\n",
       "      <td>0.123333</td>\n",
       "      <td>0.080000</td>\n",
       "      <td>0.836667</td>\n",
       "      <td>0.056667</td>\n",
       "      <td>0.756667</td>\n",
       "      <td>...</td>\n",
       "      <td>0.670000</td>\n",
       "      <td>0.686667</td>\n",
       "      <td>0.673333</td>\n",
       "      <td>-233.1250</td>\n",
       "      <td>0.0</td>\n",
       "      <td>train</td>\n",
       "      <td>-0.950</td>\n",
       "      <td>1.56</td>\n",
       "      <td>-0.430</td>\n",
       "      <td>-0.51</td>\n",
       "    </tr>\n",
       "    <tr>\n",
       "      <th>3</th>\n",
       "      <td>50806</td>\n",
       "      <td>Grp198</td>\n",
       "      <td>0.636667</td>\n",
       "      <td>1.090000</td>\n",
       "      <td>0.750000</td>\n",
       "      <td>0.940000</td>\n",
       "      <td>0.743333</td>\n",
       "      <td>0.346667</td>\n",
       "      <td>0.956667</td>\n",
       "      <td>0.633333</td>\n",
       "      <td>...</td>\n",
       "      <td>0.520000</td>\n",
       "      <td>0.846667</td>\n",
       "      <td>0.760000</td>\n",
       "      <td>-249.7775</td>\n",
       "      <td>0.0</td>\n",
       "      <td>train</td>\n",
       "      <td>0.490</td>\n",
       "      <td>0.70</td>\n",
       "      <td>-0.302</td>\n",
       "      <td>0.72</td>\n",
       "    </tr>\n",
       "    <tr>\n",
       "      <th>4</th>\n",
       "      <td>184244</td>\n",
       "      <td>Grp228</td>\n",
       "      <td>0.560000</td>\n",
       "      <td>1.013333</td>\n",
       "      <td>0.593333</td>\n",
       "      <td>0.416667</td>\n",
       "      <td>0.773333</td>\n",
       "      <td>0.460000</td>\n",
       "      <td>0.853333</td>\n",
       "      <td>0.796667</td>\n",
       "      <td>...</td>\n",
       "      <td>0.716667</td>\n",
       "      <td>0.706667</td>\n",
       "      <td>0.673333</td>\n",
       "      <td>-247.5775</td>\n",
       "      <td>0.0</td>\n",
       "      <td>train</td>\n",
       "      <td>0.850</td>\n",
       "      <td>-0.47</td>\n",
       "      <td>-0.630</td>\n",
       "      <td>0.60</td>\n",
       "    </tr>\n",
       "  </tbody>\n",
       "</table>\n",
       "<p>5 rows × 33 columns</p>\n",
       "</div>"
      ],
      "text/plain": [
       "       id   Group      Per1      Per2      Per3      Per4      Per5      Per6  \\\n",
       "0  112751  Grp169  1.070000  0.580000  0.480000  0.766667  1.233333  1.993333   \n",
       "1   18495  Grp161  0.473333  1.206667  0.883333  1.430000  0.726667  0.626667   \n",
       "2   23915  Grp261  1.130000  0.143333  0.946667  0.123333  0.080000  0.836667   \n",
       "3   50806  Grp198  0.636667  1.090000  0.750000  0.940000  0.743333  0.346667   \n",
       "4  184244  Grp228  0.560000  1.013333  0.593333  0.416667  0.773333  0.460000   \n",
       "\n",
       "       Per7      Per8  ...     Cred4     Cred5     Cred6  Normalised_FNT  \\\n",
       "0  0.340000  1.010000  ...  0.603333  0.686667  0.673333       -245.7500   \n",
       "1  0.810000  0.783333  ...  0.670000  0.553333  0.653333       -248.0000   \n",
       "2  0.056667  0.756667  ...  0.670000  0.686667  0.673333       -233.1250   \n",
       "3  0.956667  0.633333  ...  0.520000  0.846667  0.760000       -249.7775   \n",
       "4  0.853333  0.796667  ...  0.716667  0.706667  0.673333       -247.5775   \n",
       "\n",
       "   Target   data  geo_score  instance_scores  qsets_normalized_tat  lambda_wt  \n",
       "0     0.0  train      0.256            -0.06                -0.700      -0.13  \n",
       "1     0.0  train     -0.250             0.52                 0.140       0.66  \n",
       "2     0.0  train     -0.950             1.56                -0.430      -0.51  \n",
       "3     0.0  train      0.490             0.70                -0.302       0.72  \n",
       "4     0.0  train      0.850            -0.47                -0.630       0.60  \n",
       "\n",
       "[5 rows x 33 columns]"
      ]
     },
     "execution_count": 40,
     "metadata": {},
     "output_type": "execute_result"
    }
   ],
   "source": [
    "all_data.head()"
   ]
  },
  {
   "cell_type": "code",
   "execution_count": 41,
   "id": "f0390b08-5a54-4247-b86c-287b72fd753e",
   "metadata": {},
   "outputs": [
    {
     "data": {
      "text/plain": [
       "284807"
      ]
     },
     "execution_count": 41,
     "metadata": {},
     "output_type": "execute_result"
    }
   ],
   "source": [
    "all_data['lambda_wt'].count()"
   ]
  },
  {
   "cell_type": "code",
   "execution_count": 42,
   "id": "b18b5a83-858e-4e85-af4d-801ede9afb68",
   "metadata": {},
   "outputs": [
    {
     "data": {
      "text/plain": [
       "1400"
      ]
     },
     "execution_count": 42,
     "metadata": {},
     "output_type": "execute_result"
    }
   ],
   "source": [
    "all_data['lambda_wt'].nunique()"
   ]
  },
  {
   "cell_type": "code",
   "execution_count": 43,
   "id": "e61b2491-bdfd-4317-8b5b-6b93886a499f",
   "metadata": {},
   "outputs": [],
   "source": [
    "train_data = all_data[all_data['data']=='train']\n",
    "test_data = all_data[all_data['data'] =='test']"
   ]
  },
  {
   "cell_type": "code",
   "execution_count": 44,
   "id": "878ad601-19a9-41fe-adc6-af9e2f09ae9a",
   "metadata": {},
   "outputs": [
    {
     "data": {
      "text/plain": [
       "(227845, 33)"
      ]
     },
     "execution_count": 44,
     "metadata": {},
     "output_type": "execute_result"
    }
   ],
   "source": [
    "train_data.shape"
   ]
  },
  {
   "cell_type": "code",
   "execution_count": 45,
   "id": "5d87b610-8d6b-4398-a256-420a59390924",
   "metadata": {},
   "outputs": [
    {
     "data": {
      "text/plain": [
       "(56962, 33)"
      ]
     },
     "execution_count": 45,
     "metadata": {},
     "output_type": "execute_result"
    }
   ],
   "source": [
    "test_data.shape"
   ]
  },
  {
   "cell_type": "code",
   "execution_count": 46,
   "id": "78b54405-eb34-4c9a-a36a-1dde700fd00c",
   "metadata": {},
   "outputs": [
    {
     "data": {
      "text/plain": [
       "Index(['id', 'Group', 'Per1', 'Per2', 'Per3', 'Per4', 'Per5', 'Per6', 'Per7',\n",
       "       'Per8', 'Per9', 'Dem1', 'Dem2', 'Dem3', 'Dem4', 'Dem5', 'Dem6', 'Dem7',\n",
       "       'Dem8', 'Dem9', 'Cred1', 'Cred2', 'Cred3', 'Cred4', 'Cred5', 'Cred6',\n",
       "       'Normalised_FNT', 'Target', 'data', 'geo_score', 'instance_scores',\n",
       "       'qsets_normalized_tat', 'lambda_wt'],\n",
       "      dtype='object')"
      ]
     },
     "execution_count": 46,
     "metadata": {},
     "output_type": "execute_result"
    }
   ],
   "source": [
    "train_data.columns"
   ]
  },
  {
   "cell_type": "code",
   "execution_count": 47,
   "id": "2fb57ece-60bc-4e2c-8ceb-d51fc65b3ef0",
   "metadata": {},
   "outputs": [],
   "source": [
    "# splitting the data into independent and dependent variables\n",
    "x = train_data.drop(['id','Group','data','Target'],axis=1)\n",
    "y = train_data['Target']"
   ]
  },
  {
   "cell_type": "code",
   "execution_count": 48,
   "id": "ff2b6550-78cd-41f0-87b0-911b9c92f676",
   "metadata": {},
   "outputs": [
    {
     "data": {
      "text/html": [
       "<div>\n",
       "<style scoped>\n",
       "    .dataframe tbody tr th:only-of-type {\n",
       "        vertical-align: middle;\n",
       "    }\n",
       "\n",
       "    .dataframe tbody tr th {\n",
       "        vertical-align: top;\n",
       "    }\n",
       "\n",
       "    .dataframe thead th {\n",
       "        text-align: right;\n",
       "    }\n",
       "</style>\n",
       "<table border=\"1\" class=\"dataframe\">\n",
       "  <thead>\n",
       "    <tr style=\"text-align: right;\">\n",
       "      <th></th>\n",
       "      <th>Per1</th>\n",
       "      <th>Per2</th>\n",
       "      <th>Per3</th>\n",
       "      <th>Per4</th>\n",
       "      <th>Per5</th>\n",
       "      <th>Per6</th>\n",
       "      <th>Per7</th>\n",
       "      <th>Per8</th>\n",
       "      <th>Per9</th>\n",
       "      <th>Dem1</th>\n",
       "      <th>...</th>\n",
       "      <th>Cred2</th>\n",
       "      <th>Cred3</th>\n",
       "      <th>Cred4</th>\n",
       "      <th>Cred5</th>\n",
       "      <th>Cred6</th>\n",
       "      <th>Normalised_FNT</th>\n",
       "      <th>geo_score</th>\n",
       "      <th>instance_scores</th>\n",
       "      <th>qsets_normalized_tat</th>\n",
       "      <th>lambda_wt</th>\n",
       "    </tr>\n",
       "  </thead>\n",
       "  <tbody>\n",
       "    <tr>\n",
       "      <th>0</th>\n",
       "      <td>1.070000</td>\n",
       "      <td>0.580000</td>\n",
       "      <td>0.480000</td>\n",
       "      <td>0.766667</td>\n",
       "      <td>1.233333</td>\n",
       "      <td>1.993333</td>\n",
       "      <td>0.34</td>\n",
       "      <td>1.010000</td>\n",
       "      <td>0.863333</td>\n",
       "      <td>0.46</td>\n",
       "      <td>...</td>\n",
       "      <td>1.01</td>\n",
       "      <td>0.933333</td>\n",
       "      <td>0.603333</td>\n",
       "      <td>0.686667</td>\n",
       "      <td>0.673333</td>\n",
       "      <td>-245.75</td>\n",
       "      <td>0.256</td>\n",
       "      <td>-0.06</td>\n",
       "      <td>-0.70</td>\n",
       "      <td>-0.13</td>\n",
       "    </tr>\n",
       "    <tr>\n",
       "      <th>1</th>\n",
       "      <td>0.473333</td>\n",
       "      <td>1.206667</td>\n",
       "      <td>0.883333</td>\n",
       "      <td>1.430000</td>\n",
       "      <td>0.726667</td>\n",
       "      <td>0.626667</td>\n",
       "      <td>0.81</td>\n",
       "      <td>0.783333</td>\n",
       "      <td>0.190000</td>\n",
       "      <td>0.47</td>\n",
       "      <td>...</td>\n",
       "      <td>0.69</td>\n",
       "      <td>0.560000</td>\n",
       "      <td>0.670000</td>\n",
       "      <td>0.553333</td>\n",
       "      <td>0.653333</td>\n",
       "      <td>-248.00</td>\n",
       "      <td>-0.250</td>\n",
       "      <td>0.52</td>\n",
       "      <td>0.14</td>\n",
       "      <td>0.66</td>\n",
       "    </tr>\n",
       "  </tbody>\n",
       "</table>\n",
       "<p>2 rows × 29 columns</p>\n",
       "</div>"
      ],
      "text/plain": [
       "       Per1      Per2      Per3      Per4      Per5      Per6  Per7      Per8  \\\n",
       "0  1.070000  0.580000  0.480000  0.766667  1.233333  1.993333  0.34  1.010000   \n",
       "1  0.473333  1.206667  0.883333  1.430000  0.726667  0.626667  0.81  0.783333   \n",
       "\n",
       "       Per9  Dem1  ...  Cred2     Cred3     Cred4     Cred5     Cred6  \\\n",
       "0  0.863333  0.46  ...   1.01  0.933333  0.603333  0.686667  0.673333   \n",
       "1  0.190000  0.47  ...   0.69  0.560000  0.670000  0.553333  0.653333   \n",
       "\n",
       "   Normalised_FNT  geo_score  instance_scores  qsets_normalized_tat  lambda_wt  \n",
       "0         -245.75      0.256            -0.06                 -0.70      -0.13  \n",
       "1         -248.00     -0.250             0.52                  0.14       0.66  \n",
       "\n",
       "[2 rows x 29 columns]"
      ]
     },
     "execution_count": 48,
     "metadata": {},
     "output_type": "execute_result"
    }
   ],
   "source": [
    "x.head(2)"
   ]
  },
  {
   "cell_type": "code",
   "execution_count": 49,
   "id": "b73a24fa-56c6-4c09-af2f-ad447a7b05fb",
   "metadata": {},
   "outputs": [
    {
     "data": {
      "text/plain": [
       "0    0.0\n",
       "1    0.0\n",
       "2    0.0\n",
       "3    0.0\n",
       "4    0.0\n",
       "Name: Target, dtype: float64"
      ]
     },
     "execution_count": 49,
     "metadata": {},
     "output_type": "execute_result"
    }
   ],
   "source": [
    "y.head()"
   ]
  },
  {
   "cell_type": "code",
   "execution_count": 50,
   "id": "8f70261d-2fe6-491a-ae3c-670fc252fc5f",
   "metadata": {},
   "outputs": [
    {
     "data": {
      "text/plain": [
       "Index(['id', 'Group', 'Per1', 'Per2', 'Per3', 'Per4', 'Per5', 'Per6', 'Per7',\n",
       "       'Per8', 'Per9', 'Dem1', 'Dem2', 'Dem3', 'Dem4', 'Dem5', 'Dem6', 'Dem7',\n",
       "       'Dem8', 'Dem9', 'Cred1', 'Cred2', 'Cred3', 'Cred4', 'Cred5', 'Cred6',\n",
       "       'Normalised_FNT', 'Target', 'data', 'geo_score', 'instance_scores',\n",
       "       'qsets_normalized_tat', 'lambda_wt'],\n",
       "      dtype='object')"
      ]
     },
     "execution_count": 50,
     "metadata": {},
     "output_type": "execute_result"
    }
   ],
   "source": [
    "test_data.columns"
   ]
  },
  {
   "cell_type": "code",
   "execution_count": 51,
   "id": "bf30b357-4121-4e33-b15c-aa71808c68ea",
   "metadata": {},
   "outputs": [
    {
     "data": {
      "text/plain": [
       "id                        0.0\n",
       "Group                     0.0\n",
       "Per1                      0.0\n",
       "Per2                      0.0\n",
       "Per3                      0.0\n",
       "Per4                      0.0\n",
       "Per5                      0.0\n",
       "Per6                      0.0\n",
       "Per7                      0.0\n",
       "Per8                      0.0\n",
       "Per9                      0.0\n",
       "Dem1                      0.0\n",
       "Dem2                      0.0\n",
       "Dem3                      0.0\n",
       "Dem4                      0.0\n",
       "Dem5                      0.0\n",
       "Dem6                      0.0\n",
       "Dem7                      0.0\n",
       "Dem8                      0.0\n",
       "Dem9                      0.0\n",
       "Cred1                     0.0\n",
       "Cred2                     0.0\n",
       "Cred3                     0.0\n",
       "Cred4                     0.0\n",
       "Cred5                     0.0\n",
       "Cred6                     0.0\n",
       "Normalised_FNT            0.0\n",
       "Target                  100.0\n",
       "data                      0.0\n",
       "geo_score                 0.0\n",
       "instance_scores           0.0\n",
       "qsets_normalized_tat      0.0\n",
       "lambda_wt                 0.0\n",
       "dtype: float64"
      ]
     },
     "execution_count": 51,
     "metadata": {},
     "output_type": "execute_result"
    }
   ],
   "source": [
    "test_data.isnull().sum()/len(test_data)*100"
   ]
  },
  {
   "cell_type": "code",
   "execution_count": 52,
   "id": "9782633e-c943-40c8-8ae9-304b0dcd6033",
   "metadata": {},
   "outputs": [],
   "source": [
    "test_data = test_data.drop(['id','Group','Target','data'],axis=1)"
   ]
  },
  {
   "cell_type": "code",
   "execution_count": 53,
   "id": "e6b08d85-96fe-4e2a-ae3a-bfbeb2a06b55",
   "metadata": {},
   "outputs": [
    {
     "data": {
      "text/html": [
       "<div>\n",
       "<style scoped>\n",
       "    .dataframe tbody tr th:only-of-type {\n",
       "        vertical-align: middle;\n",
       "    }\n",
       "\n",
       "    .dataframe tbody tr th {\n",
       "        vertical-align: top;\n",
       "    }\n",
       "\n",
       "    .dataframe thead th {\n",
       "        text-align: right;\n",
       "    }\n",
       "</style>\n",
       "<table border=\"1\" class=\"dataframe\">\n",
       "  <thead>\n",
       "    <tr style=\"text-align: right;\">\n",
       "      <th></th>\n",
       "      <th>Per1</th>\n",
       "      <th>Per2</th>\n",
       "      <th>Per3</th>\n",
       "      <th>Per4</th>\n",
       "      <th>Per5</th>\n",
       "      <th>Per6</th>\n",
       "      <th>Per7</th>\n",
       "      <th>Per8</th>\n",
       "      <th>Per9</th>\n",
       "      <th>Dem1</th>\n",
       "      <th>...</th>\n",
       "      <th>Cred2</th>\n",
       "      <th>Cred3</th>\n",
       "      <th>Cred4</th>\n",
       "      <th>Cred5</th>\n",
       "      <th>Cred6</th>\n",
       "      <th>Normalised_FNT</th>\n",
       "      <th>geo_score</th>\n",
       "      <th>instance_scores</th>\n",
       "      <th>qsets_normalized_tat</th>\n",
       "      <th>lambda_wt</th>\n",
       "    </tr>\n",
       "  </thead>\n",
       "  <tbody>\n",
       "    <tr>\n",
       "      <th>227845</th>\n",
       "      <td>-0.300000</td>\n",
       "      <td>1.540000</td>\n",
       "      <td>0.220000</td>\n",
       "      <td>-0.280000</td>\n",
       "      <td>0.570000</td>\n",
       "      <td>0.260000</td>\n",
       "      <td>0.700000</td>\n",
       "      <td>1.076667</td>\n",
       "      <td>0.930000</td>\n",
       "      <td>0.156667</td>\n",
       "      <td>...</td>\n",
       "      <td>0.813333</td>\n",
       "      <td>0.776667</td>\n",
       "      <td>0.796667</td>\n",
       "      <td>0.823333</td>\n",
       "      <td>0.783333</td>\n",
       "      <td>-249.7500</td>\n",
       "      <td>0.25</td>\n",
       "      <td>-0.04</td>\n",
       "      <td>-0.426</td>\n",
       "      <td>0.76</td>\n",
       "    </tr>\n",
       "    <tr>\n",
       "      <th>227846</th>\n",
       "      <td>0.633333</td>\n",
       "      <td>0.953333</td>\n",
       "      <td>0.810000</td>\n",
       "      <td>0.466667</td>\n",
       "      <td>0.910000</td>\n",
       "      <td>0.253333</td>\n",
       "      <td>1.040000</td>\n",
       "      <td>0.550000</td>\n",
       "      <td>0.543333</td>\n",
       "      <td>0.433333</td>\n",
       "      <td>...</td>\n",
       "      <td>0.703333</td>\n",
       "      <td>0.806667</td>\n",
       "      <td>0.630000</td>\n",
       "      <td>0.673333</td>\n",
       "      <td>0.673333</td>\n",
       "      <td>-249.8125</td>\n",
       "      <td>0.43</td>\n",
       "      <td>-0.77</td>\n",
       "      <td>-0.620</td>\n",
       "      <td>0.18</td>\n",
       "    </tr>\n",
       "    <tr>\n",
       "      <th>227847</th>\n",
       "      <td>1.043333</td>\n",
       "      <td>0.740000</td>\n",
       "      <td>0.860000</td>\n",
       "      <td>1.006667</td>\n",
       "      <td>0.583333</td>\n",
       "      <td>0.616667</td>\n",
       "      <td>0.630000</td>\n",
       "      <td>0.686667</td>\n",
       "      <td>0.593333</td>\n",
       "      <td>1.250000</td>\n",
       "      <td>...</td>\n",
       "      <td>0.753333</td>\n",
       "      <td>0.870000</td>\n",
       "      <td>0.596667</td>\n",
       "      <td>0.680000</td>\n",
       "      <td>0.670000</td>\n",
       "      <td>-248.1200</td>\n",
       "      <td>1.32</td>\n",
       "      <td>0.11</td>\n",
       "      <td>-0.406</td>\n",
       "      <td>0.39</td>\n",
       "    </tr>\n",
       "    <tr>\n",
       "      <th>227848</th>\n",
       "      <td>1.283333</td>\n",
       "      <td>0.300000</td>\n",
       "      <td>0.576667</td>\n",
       "      <td>0.636667</td>\n",
       "      <td>0.256667</td>\n",
       "      <td>0.543333</td>\n",
       "      <td>0.356667</td>\n",
       "      <td>0.663333</td>\n",
       "      <td>1.156667</td>\n",
       "      <td>1.186667</td>\n",
       "      <td>...</td>\n",
       "      <td>0.606667</td>\n",
       "      <td>0.456667</td>\n",
       "      <td>0.320000</td>\n",
       "      <td>0.676667</td>\n",
       "      <td>0.660000</td>\n",
       "      <td>-222.9875</td>\n",
       "      <td>-2.11</td>\n",
       "      <td>0.33</td>\n",
       "      <td>0.374</td>\n",
       "      <td>1.80</td>\n",
       "    </tr>\n",
       "    <tr>\n",
       "      <th>227849</th>\n",
       "      <td>1.186667</td>\n",
       "      <td>0.326667</td>\n",
       "      <td>0.476667</td>\n",
       "      <td>0.866667</td>\n",
       "      <td>0.436667</td>\n",
       "      <td>0.680000</td>\n",
       "      <td>0.476667</td>\n",
       "      <td>0.686667</td>\n",
       "      <td>1.476667</td>\n",
       "      <td>1.213333</td>\n",
       "      <td>...</td>\n",
       "      <td>0.896667</td>\n",
       "      <td>0.566667</td>\n",
       "      <td>0.546667</td>\n",
       "      <td>0.650000</td>\n",
       "      <td>0.663333</td>\n",
       "      <td>-196.2200</td>\n",
       "      <td>-2.11</td>\n",
       "      <td>-0.37</td>\n",
       "      <td>-0.130</td>\n",
       "      <td>1.89</td>\n",
       "    </tr>\n",
       "  </tbody>\n",
       "</table>\n",
       "<p>5 rows × 29 columns</p>\n",
       "</div>"
      ],
      "text/plain": [
       "            Per1      Per2      Per3      Per4      Per5      Per6      Per7  \\\n",
       "227845 -0.300000  1.540000  0.220000 -0.280000  0.570000  0.260000  0.700000   \n",
       "227846  0.633333  0.953333  0.810000  0.466667  0.910000  0.253333  1.040000   \n",
       "227847  1.043333  0.740000  0.860000  1.006667  0.583333  0.616667  0.630000   \n",
       "227848  1.283333  0.300000  0.576667  0.636667  0.256667  0.543333  0.356667   \n",
       "227849  1.186667  0.326667  0.476667  0.866667  0.436667  0.680000  0.476667   \n",
       "\n",
       "            Per8      Per9      Dem1  ...     Cred2     Cred3     Cred4  \\\n",
       "227845  1.076667  0.930000  0.156667  ...  0.813333  0.776667  0.796667   \n",
       "227846  0.550000  0.543333  0.433333  ...  0.703333  0.806667  0.630000   \n",
       "227847  0.686667  0.593333  1.250000  ...  0.753333  0.870000  0.596667   \n",
       "227848  0.663333  1.156667  1.186667  ...  0.606667  0.456667  0.320000   \n",
       "227849  0.686667  1.476667  1.213333  ...  0.896667  0.566667  0.546667   \n",
       "\n",
       "           Cred5     Cred6  Normalised_FNT  geo_score  instance_scores  \\\n",
       "227845  0.823333  0.783333       -249.7500       0.25            -0.04   \n",
       "227846  0.673333  0.673333       -249.8125       0.43            -0.77   \n",
       "227847  0.680000  0.670000       -248.1200       1.32             0.11   \n",
       "227848  0.676667  0.660000       -222.9875      -2.11             0.33   \n",
       "227849  0.650000  0.663333       -196.2200      -2.11            -0.37   \n",
       "\n",
       "        qsets_normalized_tat  lambda_wt  \n",
       "227845                -0.426       0.76  \n",
       "227846                -0.620       0.18  \n",
       "227847                -0.406       0.39  \n",
       "227848                 0.374       1.80  \n",
       "227849                -0.130       1.89  \n",
       "\n",
       "[5 rows x 29 columns]"
      ]
     },
     "execution_count": 53,
     "metadata": {},
     "output_type": "execute_result"
    }
   ],
   "source": [
    "# This data is for prediction whether listed customer will do fraudulent or not\n",
    "test_data.head()"
   ]
  },
  {
   "cell_type": "code",
   "execution_count": 54,
   "id": "5cc59b49-4421-4cb3-a93a-bdfb2954eab5",
   "metadata": {},
   "outputs": [
    {
     "data": {
      "text/html": [
       "<div>\n",
       "<style scoped>\n",
       "    .dataframe tbody tr th:only-of-type {\n",
       "        vertical-align: middle;\n",
       "    }\n",
       "\n",
       "    .dataframe tbody tr th {\n",
       "        vertical-align: top;\n",
       "    }\n",
       "\n",
       "    .dataframe thead th {\n",
       "        text-align: right;\n",
       "    }\n",
       "</style>\n",
       "<table border=\"1\" class=\"dataframe\">\n",
       "  <thead>\n",
       "    <tr style=\"text-align: right;\">\n",
       "      <th></th>\n",
       "      <th>Per1</th>\n",
       "      <th>Per2</th>\n",
       "      <th>Per3</th>\n",
       "      <th>Per4</th>\n",
       "      <th>Per5</th>\n",
       "      <th>Per6</th>\n",
       "      <th>Per7</th>\n",
       "      <th>Per8</th>\n",
       "      <th>Per9</th>\n",
       "      <th>Dem1</th>\n",
       "      <th>...</th>\n",
       "      <th>Cred2</th>\n",
       "      <th>Cred3</th>\n",
       "      <th>Cred4</th>\n",
       "      <th>Cred5</th>\n",
       "      <th>Cred6</th>\n",
       "      <th>Normalised_FNT</th>\n",
       "      <th>geo_score</th>\n",
       "      <th>instance_scores</th>\n",
       "      <th>qsets_normalized_tat</th>\n",
       "      <th>lambda_wt</th>\n",
       "    </tr>\n",
       "  </thead>\n",
       "  <tbody>\n",
       "    <tr>\n",
       "      <th>0</th>\n",
       "      <td>1.070000</td>\n",
       "      <td>0.580000</td>\n",
       "      <td>0.480000</td>\n",
       "      <td>0.766667</td>\n",
       "      <td>1.233333</td>\n",
       "      <td>1.993333</td>\n",
       "      <td>0.340000</td>\n",
       "      <td>1.010000</td>\n",
       "      <td>0.863333</td>\n",
       "      <td>0.460000</td>\n",
       "      <td>...</td>\n",
       "      <td>1.010000</td>\n",
       "      <td>0.933333</td>\n",
       "      <td>0.603333</td>\n",
       "      <td>0.686667</td>\n",
       "      <td>0.673333</td>\n",
       "      <td>-245.7500</td>\n",
       "      <td>0.256</td>\n",
       "      <td>-0.06</td>\n",
       "      <td>-0.700</td>\n",
       "      <td>-0.13</td>\n",
       "    </tr>\n",
       "    <tr>\n",
       "      <th>1</th>\n",
       "      <td>0.473333</td>\n",
       "      <td>1.206667</td>\n",
       "      <td>0.883333</td>\n",
       "      <td>1.430000</td>\n",
       "      <td>0.726667</td>\n",
       "      <td>0.626667</td>\n",
       "      <td>0.810000</td>\n",
       "      <td>0.783333</td>\n",
       "      <td>0.190000</td>\n",
       "      <td>0.470000</td>\n",
       "      <td>...</td>\n",
       "      <td>0.690000</td>\n",
       "      <td>0.560000</td>\n",
       "      <td>0.670000</td>\n",
       "      <td>0.553333</td>\n",
       "      <td>0.653333</td>\n",
       "      <td>-248.0000</td>\n",
       "      <td>-0.250</td>\n",
       "      <td>0.52</td>\n",
       "      <td>0.140</td>\n",
       "      <td>0.66</td>\n",
       "    </tr>\n",
       "    <tr>\n",
       "      <th>2</th>\n",
       "      <td>1.130000</td>\n",
       "      <td>0.143333</td>\n",
       "      <td>0.946667</td>\n",
       "      <td>0.123333</td>\n",
       "      <td>0.080000</td>\n",
       "      <td>0.836667</td>\n",
       "      <td>0.056667</td>\n",
       "      <td>0.756667</td>\n",
       "      <td>0.226667</td>\n",
       "      <td>0.660000</td>\n",
       "      <td>...</td>\n",
       "      <td>0.383333</td>\n",
       "      <td>0.763333</td>\n",
       "      <td>0.670000</td>\n",
       "      <td>0.686667</td>\n",
       "      <td>0.673333</td>\n",
       "      <td>-233.1250</td>\n",
       "      <td>-0.950</td>\n",
       "      <td>1.56</td>\n",
       "      <td>-0.430</td>\n",
       "      <td>-0.51</td>\n",
       "    </tr>\n",
       "    <tr>\n",
       "      <th>3</th>\n",
       "      <td>0.636667</td>\n",
       "      <td>1.090000</td>\n",
       "      <td>0.750000</td>\n",
       "      <td>0.940000</td>\n",
       "      <td>0.743333</td>\n",
       "      <td>0.346667</td>\n",
       "      <td>0.956667</td>\n",
       "      <td>0.633333</td>\n",
       "      <td>0.486667</td>\n",
       "      <td>1.096667</td>\n",
       "      <td>...</td>\n",
       "      <td>0.846667</td>\n",
       "      <td>0.423333</td>\n",
       "      <td>0.520000</td>\n",
       "      <td>0.846667</td>\n",
       "      <td>0.760000</td>\n",
       "      <td>-249.7775</td>\n",
       "      <td>0.490</td>\n",
       "      <td>0.70</td>\n",
       "      <td>-0.302</td>\n",
       "      <td>0.72</td>\n",
       "    </tr>\n",
       "    <tr>\n",
       "      <th>4</th>\n",
       "      <td>0.560000</td>\n",
       "      <td>1.013333</td>\n",
       "      <td>0.593333</td>\n",
       "      <td>0.416667</td>\n",
       "      <td>0.773333</td>\n",
       "      <td>0.460000</td>\n",
       "      <td>0.853333</td>\n",
       "      <td>0.796667</td>\n",
       "      <td>0.516667</td>\n",
       "      <td>0.756667</td>\n",
       "      <td>...</td>\n",
       "      <td>0.526667</td>\n",
       "      <td>0.520000</td>\n",
       "      <td>0.716667</td>\n",
       "      <td>0.706667</td>\n",
       "      <td>0.673333</td>\n",
       "      <td>-247.5775</td>\n",
       "      <td>0.850</td>\n",
       "      <td>-0.47</td>\n",
       "      <td>-0.630</td>\n",
       "      <td>0.60</td>\n",
       "    </tr>\n",
       "  </tbody>\n",
       "</table>\n",
       "<p>5 rows × 29 columns</p>\n",
       "</div>"
      ],
      "text/plain": [
       "       Per1      Per2      Per3      Per4      Per5      Per6      Per7  \\\n",
       "0  1.070000  0.580000  0.480000  0.766667  1.233333  1.993333  0.340000   \n",
       "1  0.473333  1.206667  0.883333  1.430000  0.726667  0.626667  0.810000   \n",
       "2  1.130000  0.143333  0.946667  0.123333  0.080000  0.836667  0.056667   \n",
       "3  0.636667  1.090000  0.750000  0.940000  0.743333  0.346667  0.956667   \n",
       "4  0.560000  1.013333  0.593333  0.416667  0.773333  0.460000  0.853333   \n",
       "\n",
       "       Per8      Per9      Dem1  ...     Cred2     Cred3     Cred4     Cred5  \\\n",
       "0  1.010000  0.863333  0.460000  ...  1.010000  0.933333  0.603333  0.686667   \n",
       "1  0.783333  0.190000  0.470000  ...  0.690000  0.560000  0.670000  0.553333   \n",
       "2  0.756667  0.226667  0.660000  ...  0.383333  0.763333  0.670000  0.686667   \n",
       "3  0.633333  0.486667  1.096667  ...  0.846667  0.423333  0.520000  0.846667   \n",
       "4  0.796667  0.516667  0.756667  ...  0.526667  0.520000  0.716667  0.706667   \n",
       "\n",
       "      Cred6  Normalised_FNT  geo_score  instance_scores  qsets_normalized_tat  \\\n",
       "0  0.673333       -245.7500      0.256            -0.06                -0.700   \n",
       "1  0.653333       -248.0000     -0.250             0.52                 0.140   \n",
       "2  0.673333       -233.1250     -0.950             1.56                -0.430   \n",
       "3  0.760000       -249.7775      0.490             0.70                -0.302   \n",
       "4  0.673333       -247.5775      0.850            -0.47                -0.630   \n",
       "\n",
       "   lambda_wt  \n",
       "0      -0.13  \n",
       "1       0.66  \n",
       "2      -0.51  \n",
       "3       0.72  \n",
       "4       0.60  \n",
       "\n",
       "[5 rows x 29 columns]"
      ]
     },
     "execution_count": 54,
     "metadata": {},
     "output_type": "execute_result"
    }
   ],
   "source": [
    "# Actual Data\n",
    "\n",
    "x.head()"
   ]
  },
  {
   "cell_type": "code",
   "execution_count": 55,
   "id": "8dd9527a-1244-4329-be90-053489e9394e",
   "metadata": {},
   "outputs": [
    {
     "data": {
      "text/plain": [
       "Per1                    False\n",
       "Per2                    False\n",
       "Per3                    False\n",
       "Per4                    False\n",
       "Per5                    False\n",
       "Per6                    False\n",
       "Per7                    False\n",
       "Per8                    False\n",
       "Per9                    False\n",
       "Dem1                    False\n",
       "Dem2                    False\n",
       "Dem3                    False\n",
       "Dem4                    False\n",
       "Dem5                    False\n",
       "Dem6                    False\n",
       "Dem7                    False\n",
       "Dem8                    False\n",
       "Dem9                    False\n",
       "Cred1                   False\n",
       "Cred2                   False\n",
       "Cred3                   False\n",
       "Cred4                   False\n",
       "Cred5                   False\n",
       "Cred6                   False\n",
       "Normalised_FNT          False\n",
       "geo_score               False\n",
       "instance_scores         False\n",
       "qsets_normalized_tat    False\n",
       "lambda_wt               False\n",
       "dtype: bool"
      ]
     },
     "execution_count": 55,
     "metadata": {},
     "output_type": "execute_result"
    }
   ],
   "source": [
    "x.isnull().any()"
   ]
  },
  {
   "cell_type": "code",
   "execution_count": 56,
   "id": "6cd68d03-9264-4653-9382-7162ee7ff65a",
   "metadata": {},
   "outputs": [
    {
     "data": {
      "image/png": "[encoded data removed]",
      "text/plain": [
       "<Figure size 640x480 with 1 Axes>"
      ]
     },
     "metadata": {},
     "output_type": "display_data"
    },
    {
     "data": {
      "image/png": "[encoded data removed]",
      "text/plain": [
       "<Figure size 640x480 with 1 Axes>"
      ]
     },
     "metadata": {},
     "output_type": "display_data"
    },
    {
     "data": {
      "image/png": "[encoded data removed]",
      "text/plain": [
       "<Figure size 640x480 with 1 Axes>"
      ]
     },
     "metadata": {},
     "output_type": "display_data"
    },
    {
     "data": {
      "image/png": "[encoded data removed]",
      "text/plain": [
       "<Figure size 640x480 with 1 Axes>"
      ]
     },
     "metadata": {},
     "output_type": "display_data"
    },
    {
     "data": {
      "image/png": "[encoded data removed]",
      "text/plain": [
       "<Figure size 640x480 with 1 Axes>"
      ]
     },
     "metadata": {},
     "output_type": "display_data"
    },
    {
     "data": {
      "image/png": "[encoded data removed]",
      "text/plain": [
       "<Figure size 640x480 with 1 Axes>"
      ]
     },
     "metadata": {},
     "output_type": "display_data"
    },
    {
     "data": {
      "image/png": "[encoded data removed]",
      "text/plain": [
       "<Figure size 640x480 with 1 Axes>"
      ]
     },
     "metadata": {},
     "output_type": "display_data"
    },
    {
     "data": {
      "image/png": "[encoded data removed]",
      "text/plain": [
       "<Figure size 640x480 with 1 Axes>"
      ]
     },
     "metadata": {},
     "output_type": "display_data"
    },
    {
     "data": {
      "image/png": "[encoded data removed]",
      "text/plain": [
       "<Figure size 640x480 with 1 Axes>"
      ]
     },
     "metadata": {},
     "output_type": "display_data"
    },
    {
     "data": {
      "image/png": "[encoded data removed]",
      "text/plain": [
       "<Figure size 640x480 with 1 Axes>"
      ]
     },
     "metadata": {},
     "output_type": "display_data"
    },
    {
     "data": {
      "image/png": "[encoded data removed]",
      "text/plain": [
       "<Figure size 640x480 with 1 Axes>"
      ]
     },
     "metadata": {},
     "output_type": "display_data"
    },
    {
     "data": {
      "image/png": "[encoded data removed]",
      "text/plain": [
       "<Figure size 640x480 with 1 Axes>"
      ]
     },
     "metadata": {},
     "output_type": "display_data"
    },
    {
     "data": {
      "image/png": "[encoded data removed]",
      "text/plain": [
       "<Figure size 640x480 with 1 Axes>"
      ]
     },
     "metadata": {},
     "output_type": "display_data"
    },
    {
     "data": {
      "image/png": "[encoded data removed]",
      "text/plain": [
       "<Figure size 640x480 with 1 Axes>"
      ]
     },
     "metadata": {},
     "output_type": "display_data"
    },
    {
     "data": {
      "image/png": "[encoded data removed]",
      "text/plain": [
       "<Figure size 640x480 with 1 Axes>"
      ]
     },
     "metadata": {},
     "output_type": "display_data"
    },
    {
     "data": {
      "image/png": "[encoded data removed]",
      "text/plain": [
       "<Figure size 640x480 with 1 Axes>"
      ]
     },
     "metadata": {},
     "output_type": "display_data"
    },
    {
     "data": {
      "image/png": "[encoded data removed]",
      "text/plain": [
       "<Figure size 640x480 with 1 Axes>"
      ]
     },
     "metadata": {},
     "output_type": "display_data"
    },
    {
     "data": {
      "image/png": "[encoded data removed]",
      "text/plain": [
       "<Figure size 640x480 with 1 Axes>"
      ]
     },
     "metadata": {},
     "output_type": "display_data"
    },
    {
     "data": {
      "image/png": "[encoded data removed]",
      "text/plain": [
       "<Figure size 640x480 with 1 Axes>"
      ]
     },
     "metadata": {},
     "output_type": "display_data"
    },
    {
     "data": {
      "image/png": "[encoded data removed]",
      "text/plain": [
       "<Figure size 640x480 with 1 Axes>"
      ]
     },
     "metadata": {},
     "output_type": "display_data"
    },
    {
     "data": {
      "image/png": "[encoded data removed]",
      "text/plain": [
       "<Figure size 640x480 with 1 Axes>"
      ]
     },
     "metadata": {},
     "output_type": "display_data"
    },
    {
     "data": {
      "image/png": "[encoded data removed]",
      "text/plain": [
       "<Figure size 640x480 with 1 Axes>"
      ]
     },
     "metadata": {},
     "output_type": "display_data"
    },
    {
     "data": {
      "image/png": "[encoded data removed]",
      "text/plain": [
       "<Figure size 640x480 with 1 Axes>"
      ]
     },
     "metadata": {},
     "output_type": "display_data"
    },
    {
     "data": {
      "image/png": "[encoded data removed]",
      "text/plain": [
       "<Figure size 640x480 with 1 Axes>"
      ]
     },
     "metadata": {},
     "output_type": "display_data"
    },
    {
     "data": {
      "image/png": "[encoded data removed]",
      "text/plain": [
       "<Figure size 640x480 with 1 Axes>"
      ]
     },
     "metadata": {},
     "output_type": "display_data"
    },
    {
     "data": {
      "image/png": "[encoded data removed]",
      "text/plain": [
       "<Figure size 640x480 with 1 Axes>"
      ]
     },
     "metadata": {},
     "output_type": "display_data"
    },
    {
     "data": {
      "image/png": "[encoded data removed]",
      "text/plain": [
       "<Figure size 640x480 with 1 Axes>"
      ]
     },
     "metadata": {},
     "output_type": "display_data"
    },
    {
     "data": {
      "image/png": "[encoded data removed]",
      "text/plain": [
       "<Figure size 640x480 with 1 Axes>"
      ]
     },
     "metadata": {},
     "output_type": "display_data"
    },
    {
     "data": {
      "image/png": "[encoded data removed]",
      "text/plain": [
       "<Figure size 640x480 with 1 Axes>"
      ]
     },
     "metadata": {},
     "output_type": "display_data"
    }
   ],
   "source": [
    "def boxplots(col):\n",
    "    sns.boxplot(x[col])\n",
    "    plt.show()\n",
    "\n",
    "for i in list(x.select_dtypes(exclude=['object']).columns)[0:]:\n",
    "    boxplots(i)"
   ]
  },
  {
   "cell_type": "code",
   "execution_count": 57,
   "id": "546a1909-06e4-4629-b897-74dc7ee05e35",
   "metadata": {},
   "outputs": [
    {
     "data": {
      "text/html": [
       "<div>\n",
       "<style scoped>\n",
       "    .dataframe tbody tr th:only-of-type {\n",
       "        vertical-align: middle;\n",
       "    }\n",
       "\n",
       "    .dataframe tbody tr th {\n",
       "        vertical-align: top;\n",
       "    }\n",
       "\n",
       "    .dataframe thead th {\n",
       "        text-align: right;\n",
       "    }\n",
       "</style>\n",
       "<table border=\"1\" class=\"dataframe\">\n",
       "  <thead>\n",
       "    <tr style=\"text-align: right;\">\n",
       "      <th></th>\n",
       "      <th>Per1</th>\n",
       "      <th>Per2</th>\n",
       "      <th>Per3</th>\n",
       "      <th>Per4</th>\n",
       "      <th>Per5</th>\n",
       "      <th>Per6</th>\n",
       "      <th>Per7</th>\n",
       "      <th>Per8</th>\n",
       "      <th>Per9</th>\n",
       "      <th>Dem1</th>\n",
       "      <th>...</th>\n",
       "      <th>Cred2</th>\n",
       "      <th>Cred3</th>\n",
       "      <th>Cred4</th>\n",
       "      <th>Cred5</th>\n",
       "      <th>Cred6</th>\n",
       "      <th>Normalised_FNT</th>\n",
       "      <th>geo_score</th>\n",
       "      <th>instance_scores</th>\n",
       "      <th>qsets_normalized_tat</th>\n",
       "      <th>lambda_wt</th>\n",
       "    </tr>\n",
       "  </thead>\n",
       "  <tbody>\n",
       "    <tr>\n",
       "      <th>count</th>\n",
       "      <td>227845.000000</td>\n",
       "      <td>227845.000000</td>\n",
       "      <td>227845.000000</td>\n",
       "      <td>227845.000000</td>\n",
       "      <td>227845.000000</td>\n",
       "      <td>227845.000000</td>\n",
       "      <td>227845.000000</td>\n",
       "      <td>227845.000000</td>\n",
       "      <td>227845.000000</td>\n",
       "      <td>227845.000000</td>\n",
       "      <td>...</td>\n",
       "      <td>227845.000000</td>\n",
       "      <td>227845.000000</td>\n",
       "      <td>227845.000000</td>\n",
       "      <td>227845.000000</td>\n",
       "      <td>227845.000000</td>\n",
       "      <td>227845.000000</td>\n",
       "      <td>227845.000000</td>\n",
       "      <td>227845.000000</td>\n",
       "      <td>227845.000000</td>\n",
       "      <td>227845.000000</td>\n",
       "    </tr>\n",
       "    <tr>\n",
       "      <th>mean</th>\n",
       "      <td>0.666006</td>\n",
       "      <td>0.667701</td>\n",
       "      <td>0.666315</td>\n",
       "      <td>0.666687</td>\n",
       "      <td>0.666723</td>\n",
       "      <td>0.667378</td>\n",
       "      <td>0.666934</td>\n",
       "      <td>0.666279</td>\n",
       "      <td>0.666688</td>\n",
       "      <td>0.666576</td>\n",
       "      <td>...</td>\n",
       "      <td>0.666264</td>\n",
       "      <td>0.666755</td>\n",
       "      <td>0.666878</td>\n",
       "      <td>0.666566</td>\n",
       "      <td>0.666776</td>\n",
       "      <td>-227.954170</td>\n",
       "      <td>0.008908</td>\n",
       "      <td>-0.000123</td>\n",
       "      <td>0.001346</td>\n",
       "      <td>0.000350</td>\n",
       "    </tr>\n",
       "    <tr>\n",
       "      <th>std</th>\n",
       "      <td>0.654133</td>\n",
       "      <td>0.548305</td>\n",
       "      <td>0.506357</td>\n",
       "      <td>0.471956</td>\n",
       "      <td>0.461393</td>\n",
       "      <td>0.444573</td>\n",
       "      <td>0.415657</td>\n",
       "      <td>0.401546</td>\n",
       "      <td>0.366537</td>\n",
       "      <td>0.340436</td>\n",
       "      <td>...</td>\n",
       "      <td>0.202204</td>\n",
       "      <td>0.174204</td>\n",
       "      <td>0.160803</td>\n",
       "      <td>0.135762</td>\n",
       "      <td>0.111612</td>\n",
       "      <td>61.951661</td>\n",
       "      <td>0.997629</td>\n",
       "      <td>1.091488</td>\n",
       "      <td>0.850169</td>\n",
       "      <td>0.957957</td>\n",
       "    </tr>\n",
       "    <tr>\n",
       "      <th>min</th>\n",
       "      <td>-18.136667</td>\n",
       "      <td>-23.573333</td>\n",
       "      <td>-15.443333</td>\n",
       "      <td>-1.226667</td>\n",
       "      <td>-37.246667</td>\n",
       "      <td>-8.053333</td>\n",
       "      <td>-13.853333</td>\n",
       "      <td>-23.740000</td>\n",
       "      <td>-3.810000</td>\n",
       "      <td>-0.893333</td>\n",
       "      <td>...</td>\n",
       "      <td>-0.280000</td>\n",
       "      <td>-2.766667</td>\n",
       "      <td>-0.080000</td>\n",
       "      <td>-6.856667</td>\n",
       "      <td>-4.476667</td>\n",
       "      <td>-250.000000</td>\n",
       "      <td>-18.680000</td>\n",
       "      <td>-24.590000</td>\n",
       "      <td>-25.156000</td>\n",
       "      <td>-19.210000</td>\n",
       "    </tr>\n",
       "    <tr>\n",
       "      <th>25%</th>\n",
       "      <td>0.360000</td>\n",
       "      <td>0.470000</td>\n",
       "      <td>0.370000</td>\n",
       "      <td>0.383333</td>\n",
       "      <td>0.436667</td>\n",
       "      <td>0.410000</td>\n",
       "      <td>0.483333</td>\n",
       "      <td>0.596667</td>\n",
       "      <td>0.453333</td>\n",
       "      <td>0.413333</td>\n",
       "      <td>...</td>\n",
       "      <td>0.546667</td>\n",
       "      <td>0.560000</td>\n",
       "      <td>0.556667</td>\n",
       "      <td>0.643333</td>\n",
       "      <td>0.650000</td>\n",
       "      <td>-248.617500</td>\n",
       "      <td>-0.400000</td>\n",
       "      <td>-0.540000</td>\n",
       "      <td>-0.480000</td>\n",
       "      <td>-0.430000</td>\n",
       "    </tr>\n",
       "    <tr>\n",
       "      <th>50%</th>\n",
       "      <td>0.670000</td>\n",
       "      <td>0.690000</td>\n",
       "      <td>0.726667</td>\n",
       "      <td>0.660000</td>\n",
       "      <td>0.650000</td>\n",
       "      <td>0.576667</td>\n",
       "      <td>0.680000</td>\n",
       "      <td>0.673333</td>\n",
       "      <td>0.650000</td>\n",
       "      <td>0.656667</td>\n",
       "      <td>...</td>\n",
       "      <td>0.680000</td>\n",
       "      <td>0.673333</td>\n",
       "      <td>0.650000</td>\n",
       "      <td>0.666667</td>\n",
       "      <td>0.670000</td>\n",
       "      <td>-244.510000</td>\n",
       "      <td>0.150000</td>\n",
       "      <td>-0.090000</td>\n",
       "      <td>-0.066000</td>\n",
       "      <td>0.050000</td>\n",
       "    </tr>\n",
       "    <tr>\n",
       "      <th>75%</th>\n",
       "      <td>1.103333</td>\n",
       "      <td>0.933333</td>\n",
       "      <td>1.010000</td>\n",
       "      <td>0.913333</td>\n",
       "      <td>0.870000</td>\n",
       "      <td>0.800000</td>\n",
       "      <td>0.856667</td>\n",
       "      <td>0.776667</td>\n",
       "      <td>0.866667</td>\n",
       "      <td>0.913333</td>\n",
       "      <td>...</td>\n",
       "      <td>0.813333</td>\n",
       "      <td>0.783333</td>\n",
       "      <td>0.746667</td>\n",
       "      <td>0.696667</td>\n",
       "      <td>0.693333</td>\n",
       "      <td>-230.750000</td>\n",
       "      <td>0.630000</td>\n",
       "      <td>0.450000</td>\n",
       "      <td>0.400000</td>\n",
       "      <td>0.490000</td>\n",
       "    </tr>\n",
       "    <tr>\n",
       "      <th>max</th>\n",
       "      <td>1.483333</td>\n",
       "      <td>8.020000</td>\n",
       "      <td>3.793333</td>\n",
       "      <td>6.163333</td>\n",
       "      <td>12.266667</td>\n",
       "      <td>25.100000</td>\n",
       "      <td>40.863333</td>\n",
       "      <td>7.336667</td>\n",
       "      <td>5.863333</td>\n",
       "      <td>4.673333</td>\n",
       "      <td>...</td>\n",
       "      <td>2.193333</td>\n",
       "      <td>3.173333</td>\n",
       "      <td>1.840000</td>\n",
       "      <td>11.203333</td>\n",
       "      <td>11.950000</td>\n",
       "      <td>6172.790000</td>\n",
       "      <td>7.850000</td>\n",
       "      <td>23.750000</td>\n",
       "      <td>8.540000</td>\n",
       "      <td>10.530000</td>\n",
       "    </tr>\n",
       "  </tbody>\n",
       "</table>\n",
       "<p>8 rows × 29 columns</p>\n",
       "</div>"
      ],
      "text/plain": [
       "                Per1           Per2           Per3           Per4  \\\n",
       "count  227845.000000  227845.000000  227845.000000  227845.000000   \n",
       "mean        0.666006       0.667701       0.666315       0.666687   \n",
       "std         0.654133       0.548305       0.506357       0.471956   \n",
       "min       -18.136667     -23.573333     -15.443333      -1.226667   \n",
       "25%         0.360000       0.470000       0.370000       0.383333   \n",
       "50%         0.670000       0.690000       0.726667       0.660000   \n",
       "75%         1.103333       0.933333       1.010000       0.913333   \n",
       "max         1.483333       8.020000       3.793333       6.163333   \n",
       "\n",
       "                Per5           Per6           Per7           Per8  \\\n",
       "count  227845.000000  227845.000000  227845.000000  227845.000000   \n",
       "mean        0.666723       0.667378       0.666934       0.666279   \n",
       "std         0.461393       0.444573       0.415657       0.401546   \n",
       "min       -37.246667      -8.053333     -13.853333     -23.740000   \n",
       "25%         0.436667       0.410000       0.483333       0.596667   \n",
       "50%         0.650000       0.576667       0.680000       0.673333   \n",
       "75%         0.870000       0.800000       0.856667       0.776667   \n",
       "max        12.266667      25.100000      40.863333       7.336667   \n",
       "\n",
       "                Per9           Dem1  ...          Cred2          Cred3  \\\n",
       "count  227845.000000  227845.000000  ...  227845.000000  227845.000000   \n",
       "mean        0.666688       0.666576  ...       0.666264       0.666755   \n",
       "std         0.366537       0.340436  ...       0.202204       0.174204   \n",
       "min        -3.810000      -0.893333  ...      -0.280000      -2.766667   \n",
       "25%         0.453333       0.413333  ...       0.546667       0.560000   \n",
       "50%         0.650000       0.656667  ...       0.680000       0.673333   \n",
       "75%         0.866667       0.913333  ...       0.813333       0.783333   \n",
       "max         5.863333       4.673333  ...       2.193333       3.173333   \n",
       "\n",
       "               Cred4          Cred5          Cred6  Normalised_FNT  \\\n",
       "count  227845.000000  227845.000000  227845.000000   227845.000000   \n",
       "mean        0.666878       0.666566       0.666776     -227.954170   \n",
       "std         0.160803       0.135762       0.111612       61.951661   \n",
       "min        -0.080000      -6.856667      -4.476667     -250.000000   \n",
       "25%         0.556667       0.643333       0.650000     -248.617500   \n",
       "50%         0.650000       0.666667       0.670000     -244.510000   \n",
       "75%         0.746667       0.696667       0.693333     -230.750000   \n",
       "max         1.840000      11.203333      11.950000     6172.790000   \n",
       "\n",
       "           geo_score  instance_scores  qsets_normalized_tat      lambda_wt  \n",
       "count  227845.000000    227845.000000         227845.000000  227845.000000  \n",
       "mean        0.008908        -0.000123              0.001346       0.000350  \n",
       "std         0.997629         1.091488              0.850169       0.957957  \n",
       "min       -18.680000       -24.590000            -25.156000     -19.210000  \n",
       "25%        -0.400000        -0.540000             -0.480000      -0.430000  \n",
       "50%         0.150000        -0.090000             -0.066000       0.050000  \n",
       "75%         0.630000         0.450000              0.400000       0.490000  \n",
       "max         7.850000        23.750000              8.540000      10.530000  \n",
       "\n",
       "[8 rows x 29 columns]"
      ]
     },
     "execution_count": 57,
     "metadata": {},
     "output_type": "execute_result"
    }
   ],
   "source": [
    "x.describe()"
   ]
  },
  {
   "cell_type": "code",
   "execution_count": 58,
   "id": "b3bacb71-68b2-4ff7-bc11-809291b1d804",
   "metadata": {},
   "outputs": [
    {
     "data": {
      "text/plain": [
       "Target\n",
       "0.0    227451\n",
       "1.0       394\n",
       "Name: count, dtype: int64"
      ]
     },
     "execution_count": 58,
     "metadata": {},
     "output_type": "execute_result"
    }
   ],
   "source": [
    "# Feature scaling\n",
    "# Imbalance check\n",
    "y.value_counts()"
   ]
  },
  {
   "cell_type": "code",
   "execution_count": 59,
   "id": "b63013b0-5390-410f-9c60-34866cdac667",
   "metadata": {},
   "outputs": [],
   "source": [
    "# split the daataset into train and test\n",
    "from sklearn.model_selection import train_test_split\n",
    "x_train,x_test,y_train,y_test=train_test_split(x,y,test_size=0.2,random_state=101,stratify=y)"
   ]
  },
  {
   "cell_type": "code",
   "execution_count": 60,
   "id": "4ebdab3e-ac89-40c5-9f64-44645612fe45",
   "metadata": {},
   "outputs": [
    {
     "name": "stdout",
     "output_type": "stream",
     "text": [
      "(182276, 29) (45569, 29) (182276,) (45569,)\n"
     ]
    }
   ],
   "source": [
    "print(x_train.shape,x_test.shape,y_train.shape,y_test.shape)"
   ]
  },
  {
   "cell_type": "code",
   "execution_count": 61,
   "id": "947a1ab9-9372-4a3a-a2e4-86c448d9d826",
   "metadata": {},
   "outputs": [
    {
     "data": {
      "text/plain": [
       "Target\n",
       "0.0    45490\n",
       "1.0       79\n",
       "Name: count, dtype: int64"
      ]
     },
     "execution_count": 61,
     "metadata": {},
     "output_type": "execute_result"
    }
   ],
   "source": [
    "y_test.value_counts()"
   ]
  },
  {
   "cell_type": "code",
   "execution_count": 62,
   "id": "4c62b1c1-c357-408d-839e-cc371c89bd91",
   "metadata": {},
   "outputs": [],
   "source": [
    "# model building\n",
    "from sklearn.metrics import confusion_matrix,classification_report,accuracy_score\n",
    "from sklearn.linear_model import LogisticRegression"
   ]
  },
  {
   "cell_type": "markdown",
   "id": "5313b740-9455-4d9b-b951-7167b1b41332",
   "metadata": {},
   "source": [
    "# Logistic Regression"
   ]
  },
  {
   "cell_type": "code",
   "execution_count": 63,
   "id": "20c41542-83b8-4d1e-8d33-0b43c11d85b5",
   "metadata": {},
   "outputs": [
    {
     "name": "stdout",
     "output_type": "stream",
     "text": [
      "[[181938     23]\n",
      " [   119    196]]\n",
      "\n",
      "              precision    recall  f1-score   support\n",
      "\n",
      "         0.0       1.00      1.00      1.00    181961\n",
      "         1.0       0.89      0.62      0.73       315\n",
      "\n",
      "    accuracy                           1.00    182276\n",
      "   macro avg       0.95      0.81      0.87    182276\n",
      "weighted avg       1.00      1.00      1.00    182276\n",
      "\n",
      "\n",
      "              precision    recall  f1-score   support\n",
      "\n",
      "         0.0       1.00      1.00      1.00     45490\n",
      "         1.0       0.89      0.61      0.72        79\n",
      "\n",
      "    accuracy                           1.00     45569\n",
      "   macro avg       0.94      0.80      0.86     45569\n",
      "weighted avg       1.00      1.00      1.00     45569\n",
      "\n",
      "\n",
      "Train Accuracy 0.9992209616186443\n",
      "\n",
      "Test Accuracy 0.999188044503939\n"
     ]
    }
   ],
   "source": [
    "logit = LogisticRegression()\n",
    "lr = logit.fit(x_train,y_train)\n",
    "y_pred_train = logit.predict(x_train)\n",
    "y_pred_test = logit.predict(x_test)\n",
    "# confusion matrix\n",
    "print(confusion_matrix(y_train,y_pred_train))\n",
    "print()\n",
    "#classification report\n",
    "print(classification_report(y_train,y_pred_train))\n",
    "print()\n",
    "print(classification_report(y_test,y_pred_test))\n",
    "print()\n",
    "# accuracy score\n",
    "print(\"Train Accuracy\",accuracy_score(y_train,y_pred_train))\n",
    "print()\n",
    "print(\"Test Accuracy\",accuracy_score(y_test,y_pred_test))"
   ]
  },
  {
   "cell_type": "code",
   "execution_count": null,
   "id": "dd0aa77b-2180-481f-8923-72211bf8160e",
   "metadata": {},
   "outputs": [],
   "source": []
  }
 ],
 "metadata": {
  "kernelspec": {
   "display_name": "Python 3 (ipykernel)",
   "language": "python",
   "name": "python3"
  },
  "language_info": {
   "codemirror_mode": {
    "name": "ipython",
    "version": 3
   },
   "file_extension": ".py",
   "mimetype": "text/x-python",
   "name": "python",
   "nbconvert_exporter": "python",
   "pygments_lexer": "ipython3",
   "version": "3.11.7"
  }
 },
 "nbformat": 4,
 "nbformat_minor": 5
}
